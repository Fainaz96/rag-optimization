{
 "cells": [
  {
   "cell_type": "code",
   "execution_count": 2,
   "id": "1b170906",
   "metadata": {},
   "outputs": [
    {
     "name": "stdout",
     "output_type": "stream",
     "text": [
      "Requirement already satisfied: requests in /Users/adowbor/Repos/datascout-refresh/datascout-ops/.venv/lib/python3.12/site-packages (2.32.3)\n",
      "Collecting beautifulsoup4\n",
      "  Downloading beautifulsoup4-4.13.4-py3-none-any.whl.metadata (3.8 kB)\n",
      "Requirement already satisfied: charset-normalizer<4,>=2 in /Users/adowbor/Repos/datascout-refresh/datascout-ops/.venv/lib/python3.12/site-packages (from requests) (3.4.2)\n",
      "Requirement already satisfied: idna<4,>=2.5 in /Users/adowbor/Repos/datascout-refresh/datascout-ops/.venv/lib/python3.12/site-packages (from requests) (3.10)\n",
      "Requirement already satisfied: urllib3<3,>=1.21.1 in /Users/adowbor/Repos/datascout-refresh/datascout-ops/.venv/lib/python3.12/site-packages (from requests) (2.4.0)\n",
      "Requirement already satisfied: certifi>=2017.4.17 in /Users/adowbor/Repos/datascout-refresh/datascout-ops/.venv/lib/python3.12/site-packages (from requests) (2025.4.26)\n",
      "Collecting soupsieve>1.2 (from beautifulsoup4)\n",
      "  Downloading soupsieve-2.7-py3-none-any.whl.metadata (4.6 kB)\n",
      "Requirement already satisfied: typing-extensions>=4.0.0 in /Users/adowbor/Repos/datascout-refresh/datascout-ops/.venv/lib/python3.12/site-packages (from beautifulsoup4) (4.14.0)\n",
      "Downloading beautifulsoup4-4.13.4-py3-none-any.whl (187 kB)\n",
      "Downloading soupsieve-2.7-py3-none-any.whl (36 kB)\n",
      "Installing collected packages: soupsieve, beautifulsoup4\n",
      "\u001b[2K   \u001b[90m━━━━━━━━━━━━━━━━━━━━━━━━━━━━━━━━━━━━━━━━\u001b[0m \u001b[32m2/2\u001b[0m [beautifulsoup4]\n",
      "\u001b[1A\u001b[2KSuccessfully installed beautifulsoup4-4.13.4 soupsieve-2.7\n",
      "Note: you may need to restart the kernel to use updated packages.\n"
     ]
    }
   ],
   "source": [
    "%pip install requests beautifulsoup4"
   ]
  },
  {
   "cell_type": "markdown",
   "id": "8aaeaae9",
   "metadata": {},
   "source": [
    "## 1. Parse the Sitemap with Namespaces"
   ]
  },
  {
   "cell_type": "code",
   "execution_count": 7,
   "id": "d5e5c772",
   "metadata": {},
   "outputs": [
    {
     "name": "stdout",
     "output_type": "stream",
     "text": [
      "https://ccs.ca/2021/07/02/ccs-hls-atherosclerosis-research-award/\n",
      "https://ccs.ca/2021/07/02/ccs-hls-atherosclerosis-research-award/\n",
      "https://ccs.ca/\n",
      "https://ccs.ca/ccs-research-awards/ccs-covid-19-challenge-for-canada-initiative-ccs-c3i/\n",
      "https://ccs.ca/ccs-research-awards/ccs-covid-19-challenge-for-canada-initiative-ccs-c3i/\n",
      "https://ccs.ca/ccs-research-awards/ccs-bayer-resident-vascular-award/\n",
      "https://ccs.ca/ccs-research-awards/ccs-hls-atherosclerosis-research-award/\n",
      "https://ccs.ca/ccs-research-awards/ccs-hls-atherosclerosis-research-award/\n",
      "https://ccs.ca/ccs-research-awards/ccs-bms-pfizer-af-research-award/\n",
      "https://ccs.ca/ccs-research-awards/ccs-bms-pfizer-af-research-award/\n",
      "\n",
      "Total de Urls: 1136\n"
     ]
    }
   ],
   "source": [
    "import requests\n",
    "import xml.etree.ElementTree as ET\n",
    "import urllib3\n",
    "import pandas as pd\n",
    "from datetime import datetime\n",
    "\n",
    "# Suppress SSL warnings for self-signed certificates\n",
    "urllib3.disable_warnings(urllib3.exceptions.InsecureRequestWarning)\n",
    "\n",
    "sitemap_index_url = 'https://ccs.ca/sitemap_index.xml'\n",
    "response = requests.get(sitemap_index_url, verify=False)\n",
    "root = ET.fromstring(response.content)\n",
    "\n",
    "namespaces = {'ns': 'http://www.sitemaps.org/schemas/sitemap/0.9'}\n",
    "\n",
    "# Step 1: Get all child sitemap URLs\n",
    "sitemap_urls = [sitemap.find('ns:loc', namespaces).text.strip()\n",
    "                for sitemap in root.findall('ns:sitemap', namespaces)]\n",
    "\n",
    "all_urls = []\n",
    "\n",
    "# Step 2: Loop through each sitemap and collect <url> entries\n",
    "for sitemap_url in sitemap_urls:\n",
    "    resp = requests.get(sitemap_url, verify=False)\n",
    "    child_root = ET.fromstring(resp.content)\n",
    "    for url in child_root.findall('ns:url', namespaces):\n",
    "        loc = url.find('ns:loc', namespaces).text.strip()\n",
    "        all_urls.append(loc)\n",
    "\n",
    "# Preview the first few entries\n",
    "for item in all_urls[:10]:\n",
    "    print(item)\n",
    "\n",
    "print()\n",
    "print(f\"Total de Urls: {len(all_urls)}\")"
   ]
  },
  {
   "cell_type": "code",
   "execution_count": 10,
   "id": "83ad7ab2",
   "metadata": {},
   "outputs": [],
   "source": [
    "import pandas as pd\n",
    "\n",
    "df = pd.DataFrame(all_urls, columns=['url'])\n",
    "df.to_csv('ccs_scraped_all_urls.csv', index=False)\n"
   ]
  },
  {
   "cell_type": "code",
   "execution_count": 16,
   "id": "7ff2306d",
   "metadata": {},
   "outputs": [
    {
     "name": "stderr",
     "output_type": "stream",
     "text": [
      "100%|██████████| 1136/1136 [25:48<00:00,  1.36s/it] "
     ]
    },
    {
     "name": "stdout",
     "output_type": "stream",
     "text": [
      "✅ Done. Results saved to 'scraped_content_with_status.csv'\n"
     ]
    },
    {
     "name": "stderr",
     "output_type": "stream",
     "text": [
      "\n"
     ]
    }
   ],
   "source": [
    "import pandas as pd\n",
    "import requests\n",
    "from bs4 import BeautifulSoup\n",
    "import ast\n",
    "import time\n",
    "from tqdm import tqdm\n",
    "from datetime import datetime\n",
    "\n",
    "# Load your input file (adjust filename as needed)\n",
    "df = pd.read_csv('ccs_scraped_all_urls.csv')\n",
    "\n",
    "#df = df[30:61]\n",
    "\n",
    "def extract_url(raw):\n",
    "    try:\n",
    "        return ast.literal_eval(raw)['url']\n",
    "    except:\n",
    "        return raw\n",
    "\n",
    "df['url'] = df['url'].apply(extract_url)\n",
    "\n",
    "# Define selectors with human-readable labels\n",
    "selectors = [\n",
    "    (\"main#main-content\", ('main', {'id': 'main-content'})),\n",
    "    (\"div#masterContentArea\", ('div', {'id': 'masterContentArea'})),\n",
    "    (\"div.hs_cos_wrapper_type_rich_text\", ('div', {'class': 'hs_cos_wrapper_type_rich_text'})),\n",
    "    (\"article\", ('article', {})),\n",
    "]\n",
    "\n",
    "# Scraper logic with tracking\n",
    "def extract_page_content(html):\n",
    "    soup = BeautifulSoup(html, 'html.parser')\n",
    "    \n",
    "    for label, (tag, attrs) in selectors:\n",
    "        section = soup.find(tag, attrs)\n",
    "        if section:\n",
    "            return section.get_text(separator=\"\\n\", strip=True), label\n",
    "\n",
    "    if soup.body:\n",
    "        return soup.body.get_text(separator=\"\\n\", strip=True), \"body\"\n",
    "\n",
    "    return \"[NO CONTENT FOUND]\", \"none\"\n",
    "\n",
    "# Scrape all URLs\n",
    "results = []\n",
    "today = datetime.now().isoformat(timespec='seconds')\n",
    "\n",
    "for url in tqdm(df['url']):\n",
    "    try:\n",
    "        response = requests.get(url, timeout=10, verify=False)\n",
    "        response.raise_for_status()\n",
    "        content, selector = extract_page_content(response.text)\n",
    "        status = \"ok\" if content.strip() and selector != \"none\" else \"no_content\"\n",
    "    except Exception as e:\n",
    "        content = f\"[ERROR] {e}\"\n",
    "        selector = \"error\"\n",
    "        status = \"error\"\n",
    "\n",
    "    results.append({\n",
    "        'url': url,\n",
    "        'content': content,\n",
    "        'selector_used': selector,\n",
    "        'status': status,\n",
    "        'client_id': client_id,\n",
    "        \"date\": today  # Add current date here\n",
    "    })\n",
    "\n",
    "    time.sleep(1)  # Be polite\n",
    "\n",
    "# Save output\n",
    "output_df = pd.DataFrame(results)\n",
    "output_df.to_csv('scraped_content_with_status.csv', index=False)\n",
    "\n",
    "print(\"✅ Done. Results saved to 'scraped_content_with_status.csv'\")\n"
   ]
  },
  {
   "cell_type": "code",
   "execution_count": 17,
   "id": "d4155257",
   "metadata": {},
   "outputs": [
    {
     "data": {
      "application/vnd.microsoft.datawrangler.viewer.v0+json": {
       "columns": [
        {
         "name": "index",
         "rawType": "int64",
         "type": "integer"
        },
        {
         "name": "url",
         "rawType": "object",
         "type": "string"
        },
        {
         "name": "content",
         "rawType": "object",
         "type": "string"
        },
        {
         "name": "selector_used",
         "rawType": "object",
         "type": "string"
        },
        {
         "name": "status",
         "rawType": "object",
         "type": "string"
        },
        {
         "name": "client_id",
         "rawType": "object",
         "type": "string"
        },
        {
         "name": "date",
         "rawType": "object",
         "type": "string"
        }
       ],
       "ref": "b5a2e194-a8b8-4ee6-8c90-bbd3d4cdfcdc",
       "rows": [
        [
         "0",
         "https://ccs.ca/2021/07/02/ccs-hls-atherosclerosis-research-award/",
         "Home\nCCS/HLS Atherosclerosis Research Award\nThe Canadian Cardiovascular Society and HLS Therapeutics are proud to support the CCS/HLS Atherosclerosis Research Award. This research award will support innovative groundbreaking clinical research projects in the area of atherosclerosis. Priority will be given to research that has the potential to advance clinical knowledge of atherosclerosis process linked to inflammation, membrane stability and biomarkers.\nThis Award is intended for Canadian MDs in the first 5 years of their first clinical appointment in an academic department for a research project on the topic of atherosclerosis.\nA single award of $35,000 will be awarded based on an independent peer review process.\n2022 Call for Applications: Closes July 13th, 2022 at 11:59 a.m. EDT\nCCS-HLS Atherosclerosis Research Award Handbook\nApply now\nEligibility\nBe a CCS Member. For more information about CCS Membership, visit the CCS website: https://ccs.ca/en/membership\nApplicants must be a Canadian MD in their first 5 years of their first clinical appointment in an academic department at an eligible Canadian institution.\nApplicants must be a Canadian Citizen or Permanent Resident of Canada.\nAward funds are solely intended for Canadian research purposes.\nFunded research must be conducted at a site in Canada associated with Canadian research institutions that are eligible to hold research funding (https://cihr-irsc.gc.ca/e/36374.html).\nThe award and funds are intended for original research – if the application:\nrefers to a multicenter clinical trial, the applicant must specify their specific role in the research study.\nis for a sub-study of an ongoing project or trial, the applicant must specify their role and explain how the sub-study is distinct from the main study.\nFunded research must be completed within 12 months from the start of funding.\nThe Award\nA single award of $35,000 will be awarded based on an independent peer review process.\nAward funds will be administered by the Cardiology Division of the awardee’s affiliated university, or equivalent.\nBudget Template\nDownload the budget template here\n.\nPeer Review Process and Evaluation Committee\nAll applications will be pre-screened for eligibility. Applications that are late, incorrectly formatted, incomplete and/or do not meet the basic eligibility criteria will not be considered for review.\nPeer review of all eligible applications will be conducted by a scientific review committee comprised of CCS members. Reviewers are selected for their subject matter expertise. All eligible proposals will be reviewed by at least three members of the peer review committee. All applicants will receive feedback from reviewers, upon request.\nIf you have questions about the submission process or require assistance with submitting your application, please contact\nresearchawards@ccs.ca\n.\nSupported by:\nThe Canadian Cardiovascular Society and HLS are proud to support the CCS-HLS Atherosclerosis Research Award. With this award, we hope to further research on atherosclerosis to improve the lives of Canadians who are affected by this condition, and their families.",
         "main#main-content",
         "ok",
         "ccs",
         "2025-07-29T20:26:05"
        ],
        [
         "1",
         "https://ccs.ca/2021/07/02/ccs-hls-atherosclerosis-research-award/",
         "Home\nCCS/HLS Atherosclerosis Research Award\nThe Canadian Cardiovascular Society and HLS Therapeutics are proud to support the CCS/HLS Atherosclerosis Research Award. This research award will support innovative groundbreaking clinical research projects in the area of atherosclerosis. Priority will be given to research that has the potential to advance clinical knowledge of atherosclerosis process linked to inflammation, membrane stability and biomarkers.\nThis Award is intended for Canadian MDs in the first 5 years of their first clinical appointment in an academic department for a research project on the topic of atherosclerosis.\nA single award of $35,000 will be awarded based on an independent peer review process.\n2022 Call for Applications: Closes July 13th, 2022 at 11:59 a.m. EDT\nCCS-HLS Atherosclerosis Research Award Handbook\nApply now\nEligibility\nBe a CCS Member. For more information about CCS Membership, visit the CCS website: https://ccs.ca/en/membership\nApplicants must be a Canadian MD in their first 5 years of their first clinical appointment in an academic department at an eligible Canadian institution.\nApplicants must be a Canadian Citizen or Permanent Resident of Canada.\nAward funds are solely intended for Canadian research purposes.\nFunded research must be conducted at a site in Canada associated with Canadian research institutions that are eligible to hold research funding (https://cihr-irsc.gc.ca/e/36374.html).\nThe award and funds are intended for original research – if the application:\nrefers to a multicenter clinical trial, the applicant must specify their specific role in the research study.\nis for a sub-study of an ongoing project or trial, the applicant must specify their role and explain how the sub-study is distinct from the main study.\nFunded research must be completed within 12 months from the start of funding.\nThe Award\nA single award of $35,000 will be awarded based on an independent peer review process.\nAward funds will be administered by the Cardiology Division of the awardee’s affiliated university, or equivalent.\nBudget Template\nDownload the budget template here\n.\nPeer Review Process and Evaluation Committee\nAll applications will be pre-screened for eligibility. Applications that are late, incorrectly formatted, incomplete and/or do not meet the basic eligibility criteria will not be considered for review.\nPeer review of all eligible applications will be conducted by a scientific review committee comprised of CCS members. Reviewers are selected for their subject matter expertise. All eligible proposals will be reviewed by at least three members of the peer review committee. All applicants will receive feedback from reviewers, upon request.\nIf you have questions about the submission process or require assistance with submitting your application, please contact\nresearchawards@ccs.ca\n.\nSupported by:\nThe Canadian Cardiovascular Society and HLS are proud to support the CCS-HLS Atherosclerosis Research Award. With this award, we hope to further research on atherosclerosis to improve the lives of Canadians who are affected by this condition, and their families.",
         "main#main-content",
         "ok",
         "ccs",
         "2025-07-29T20:26:05"
        ],
        [
         "2",
         "https://ccs.ca/",
         "Canadian Cardiovascular Society\nStrong heart teams in a heart-healthy Canada.\nWe are the national voice for cardiovascular clinicians & scientists, representing more than 2,500 cardiologists, cardiac surgeons and other heart health specialists.\nWe advance heart health for all. We set standards for excellence in heart health and care, build the knowledge and expertise of the heart team, and influence policy and advocate for the heart health of all Canadians.\nOur mission and vision\nSPOTLIGHT ON:\nCCC 2025 Registration is Now Open!\nWe couldn’t be more excited to welcome you to the Quebec City Convention Centre from October 23 to 26 for this year’s\nhighly anticipated Congress\n.\nJoin us in historic Quebec City to connect with your peers and key opinion leaders in the cardiovascular community. Learn from and get inspired by thoughtful programming designed for you. The full\nCCC scientific program\nis now available!\nRegister here!\nContinuing professional development\nWe offer in-person and online learning activities to cardiovascular professionals at all stages of their career. We are also recognized by the Royal College of Physicians and Surgeons of Canada as a fully accredited provider of CPD credits within the College’s Maintenance of Certification (MOC) Program.\nLearn more\nUpcoming Events\nSee All\nSep\n12\nAffiliate Event\nCHRS Annual Meeting 2025\nSeptember 12-13, 2025\nOct\n3\nTRP\nPediatric Cardiology Trainee Review Program - Session 1\nOctober 3, 2025\nOct\n22\nTRP\nPediatric Cardiology Trainee Review Program - Session 2\nOctober 22, 2025\nOct\n23\nCanadian Cardiovascular Congress 2025\nOctober 23-26, 2025\nContinuing Professional Development\nExciting things are happening in the world of CCS continuing professional development! Access our latest resources and programming.\nUpcoming Events\nAccreditation Information\nSection 3 Programs\nWebinar Recordings\nCardio Connector Podcasts\nCardioCampus\nMeet the 2025 CCS Trainee Committee\nTrainee Networking Events\nLearn more about the relationship between CCS trainees and faculty in cardiovascular medicine, science, and surgery across Canada.\nTrainee Review Programs (TRPs)\nPrepare for your Royal College of Physicians and Surgeons exam. You’ll get realistic exposure to the examination process and an opportunity for feedback from faculty.\nLatest News\nSee All\nMembership news\n•\nMembership\nCalling All CCS Members! Volunteer on a CCS Committee\nMarch 4, 2025\nThe CCS is comprised of members with a vast range of skills, experience, interests, and diverse...\nMembership\nProfile\n•\nHeart Month, Membership\nHeart Month Profile: Dr. Sean Virani\nFebruary 12, 2025\nWhen thinking about Dr. Virani, passion is the word that comes to mind. He first became involved...\nHeart Month\nMembership\nProfile\n•\nHeart Month, Membership\nHeart Month Profile: Dr. Laurie-Anne Boivin-Proulx\nFebruary 12, 2025\nDr. Boivin-Proulx’s journey with the CCS began as a PGY1 in Internal Medicine when she joined the...\nHeart Month\nMembership\nSupport trainees through the CCSA\nThe Canadian Cardiovascular Society Academy supports education, research, scholarships and bursaries for medical students and prospective cardiovascular specialists. Show your support for the Academy through an Online Donation or a Gift of Securities.\nMake a donation today",
         "main#main-content",
         "ok",
         "ccs",
         "2025-07-29T20:26:05"
        ],
        [
         "3",
         "https://ccs.ca/ccs-research-awards/ccs-covid-19-challenge-for-canada-initiative-ccs-c3i/",
         "Home\nAbout\nAwards\nCCS Research Fellowships & Awards\nCCS COVID-19 Challenge for Canada Initiative (CCS-C3I)\nCCS COVID-19 Challenge for Canada Initiative (CCS-C3I)\nThe Award\nThe COVID-19 pandemic is impacting millions world-wide with over 40,000 Canadians affected. The prevalence and outcomes of cardiovascular complications of COVID-19 are poorly understood and remain uncharacterized.\nThe aim of this initiative is to empower the CCS clinician-scientist community to be prepared to harness emerging large-scale funds. By fostering multisite cardiovascular research across Canada, our CV community will be at the forefront of readiness for large-scale, CVD-related COVID-19 disease initiatives. This effort will inform health policy in Canada relative to health services delivery for CV patients in this time of crisis.\n2020 Call for Applications:\nClosed\nPlease complete the\nApplicant Information Form\nand include it with your proposal.\nC3I Call for Proposals handbook\nWhat areas of research are eligible?\nWe are seeking innovative approaches that will provide answers in the following categories of clinical science inquiry:\n1.    Impact of CVD health services restrictions to meet the COVID-19 needs on patient outcomes\n2.    Data-driven modeling of projected CVD complications of COVID-19 in the near and long term\n3.    Patient-centered approaches to enhancing digital and telehealth communications for patients with CVD during the COVID-19 epidemic\nWho is eligible to apply?\nThe Principal Investigators (PIs)\nmust be CCS members\n. We encourage that co-investigators are also CCS members.\nThe funds must be held in a Canadian university or affiliated research institute.\nCollaboration between a minimum of two (2) Canadian institutions is required. Multi-province collaboration is encouraged.\nApplicant teams must meet the following criteria:\nA\nCCS Member Trainee is the Lead Principal Investigator\n(PI), or\nA\nCCS Member who is Junior Faculty\n(<5 years since faculty appointment) is the Lead PI.\nAt least one award will be allocated to each of these team compositions.\nTwo collaborating institutions at a minimum, preferably from different provinces.\nTeams that include multidisciplinary co-investigators are also encouraged.\nAll research teams should address the CCS “3G” principle in team composition (representation across geography, gender and generations).\nWhat do I need to include with my application?\na) Project details: 4 pages total\ni.    Synopsis (1/2 page), summarizing the project in abstract form\nii.    Project background (1/2 page), articulating the specific knowledge gap related to COVID-19 to be addressed.\niii.    Research activities (1 page, 3 paragraphs), outlining methods, time-line and specific deliverables\niv.    References (1 page)\nv.    Figures and/or tables (1 page)\nNote:\nProject descriptions exceeding the maximum page limit it will not be reviewed.\nb) CVs (maximum 5 pages)\nThe CVs of PI and co-PIs from all collaborating institutions using the CIHR format or similar.\nc) Budget (1 page)\nFor the total amount including the matched institutional funds\nNote:\nAt time of proposal submission, letters of commitment for matching funds from partner institutions would strengthen applications. If these are not included at time of submission, funds flowing to awardee institutions would be contingent upon confirmation, in writing, of matching funds.\nd) Submission format\nAll documents, including CVs, must adhere to the following format:•    Page size: 8½ x 11 inches\nMargins: no less than 2.54 cm (1 inch) on all sides\nFont: Times New Roman (no smaller than 12 pt) or Arial (no smaller than 11 pt).The Project details must be submitted as a single PDF with numbered pages\nHow many awards will be granted and how much funding is available?\nThis is a two-phase program.\nPhase I:  May 2020\nUp to three (3) awards of $15,000 will be granted.Each award must be matched in cash (for a total of at least $30,000 in funding) by the collaborating institution(s).Teams with two or more collaborating institutions will have incrementally more total funds.\nCCS funds will be dispensed in 1 installment.\nPhase II: September 2020\nAt the six-month mark, teams holding awards will submit progress reports and a proposal for expanding their project. Based on progress and potential for enhanced impact, peer reviewers will select one project to receive an additional $25,000 to further advance their work.\nHow will awardees be chosen?\nSubmissions will be reviewed by a sub-committee of members from the CCS affiliates. Any potential review committee member who has any conflict of interest related to any single proposal will be exclude from the review panel.\nProposals will be scored and evaluated based on feasibility and impact.\nIf you have questions, please email us at\nresearchawards@ccs.ca\n. We’re here to help!\nAbout\nAbout Us\nCCS Code of Conduct\nMission and Vision\nAnnual Reports\nStrategic Plan\nCCS's 75th Anniversary\nJoin Our Team\nBoard of Directors\nPresident’s Page\nPast Presidents\nCommittees\nCCS Initiatives\nMYCOVACC\nCCS Classification of Acute Myocardial Infarction (CCS-AMI)\nAwards\nCCS Recognition Awards\nCCS Research Fellowships & Awards\nCCS Affiliate Awards",
         "main#main-content",
         "ok",
         "ccs",
         "2025-07-29T20:26:05"
        ],
        [
         "4",
         "https://ccs.ca/ccs-research-awards/ccs-covid-19-challenge-for-canada-initiative-ccs-c3i/",
         "Home\nAbout\nAwards\nCCS Research Fellowships & Awards\nCCS COVID-19 Challenge for Canada Initiative (CCS-C3I)\nCCS COVID-19 Challenge for Canada Initiative (CCS-C3I)\nThe Award\nThe COVID-19 pandemic is impacting millions world-wide with over 40,000 Canadians affected. The prevalence and outcomes of cardiovascular complications of COVID-19 are poorly understood and remain uncharacterized.\nThe aim of this initiative is to empower the CCS clinician-scientist community to be prepared to harness emerging large-scale funds. By fostering multisite cardiovascular research across Canada, our CV community will be at the forefront of readiness for large-scale, CVD-related COVID-19 disease initiatives. This effort will inform health policy in Canada relative to health services delivery for CV patients in this time of crisis.\n2020 Call for Applications:\nClosed\nPlease complete the\nApplicant Information Form\nand include it with your proposal.\nC3I Call for Proposals handbook\nWhat areas of research are eligible?\nWe are seeking innovative approaches that will provide answers in the following categories of clinical science inquiry:\n1.    Impact of CVD health services restrictions to meet the COVID-19 needs on patient outcomes\n2.    Data-driven modeling of projected CVD complications of COVID-19 in the near and long term\n3.    Patient-centered approaches to enhancing digital and telehealth communications for patients with CVD during the COVID-19 epidemic\nWho is eligible to apply?\nThe Principal Investigators (PIs)\nmust be CCS members\n. We encourage that co-investigators are also CCS members.\nThe funds must be held in a Canadian university or affiliated research institute.\nCollaboration between a minimum of two (2) Canadian institutions is required. Multi-province collaboration is encouraged.\nApplicant teams must meet the following criteria:\nA\nCCS Member Trainee is the Lead Principal Investigator\n(PI), or\nA\nCCS Member who is Junior Faculty\n(<5 years since faculty appointment) is the Lead PI.\nAt least one award will be allocated to each of these team compositions.\nTwo collaborating institutions at a minimum, preferably from different provinces.\nTeams that include multidisciplinary co-investigators are also encouraged.\nAll research teams should address the CCS “3G” principle in team composition (representation across geography, gender and generations).\nWhat do I need to include with my application?\na) Project details: 4 pages total\ni.    Synopsis (1/2 page), summarizing the project in abstract form\nii.    Project background (1/2 page), articulating the specific knowledge gap related to COVID-19 to be addressed.\niii.    Research activities (1 page, 3 paragraphs), outlining methods, time-line and specific deliverables\niv.    References (1 page)\nv.    Figures and/or tables (1 page)\nNote:\nProject descriptions exceeding the maximum page limit it will not be reviewed.\nb) CVs (maximum 5 pages)\nThe CVs of PI and co-PIs from all collaborating institutions using the CIHR format or similar.\nc) Budget (1 page)\nFor the total amount including the matched institutional funds\nNote:\nAt time of proposal submission, letters of commitment for matching funds from partner institutions would strengthen applications. If these are not included at time of submission, funds flowing to awardee institutions would be contingent upon confirmation, in writing, of matching funds.\nd) Submission format\nAll documents, including CVs, must adhere to the following format:•    Page size: 8½ x 11 inches\nMargins: no less than 2.54 cm (1 inch) on all sides\nFont: Times New Roman (no smaller than 12 pt) or Arial (no smaller than 11 pt).The Project details must be submitted as a single PDF with numbered pages\nHow many awards will be granted and how much funding is available?\nThis is a two-phase program.\nPhase I:  May 2020\nUp to three (3) awards of $15,000 will be granted.Each award must be matched in cash (for a total of at least $30,000 in funding) by the collaborating institution(s).Teams with two or more collaborating institutions will have incrementally more total funds.\nCCS funds will be dispensed in 1 installment.\nPhase II: September 2020\nAt the six-month mark, teams holding awards will submit progress reports and a proposal for expanding their project. Based on progress and potential for enhanced impact, peer reviewers will select one project to receive an additional $25,000 to further advance their work.\nHow will awardees be chosen?\nSubmissions will be reviewed by a sub-committee of members from the CCS affiliates. Any potential review committee member who has any conflict of interest related to any single proposal will be exclude from the review panel.\nProposals will be scored and evaluated based on feasibility and impact.\nIf you have questions, please email us at\nresearchawards@ccs.ca\n. We’re here to help!\nAbout\nAbout Us\nCCS Code of Conduct\nMission and Vision\nAnnual Reports\nStrategic Plan\nCCS's 75th Anniversary\nJoin Our Team\nBoard of Directors\nPresident’s Page\nPast Presidents\nCommittees\nCCS Initiatives\nMYCOVACC\nCCS Classification of Acute Myocardial Infarction (CCS-AMI)\nAwards\nCCS Recognition Awards\nCCS Research Fellowships & Awards\nCCS Affiliate Awards",
         "main#main-content",
         "ok",
         "ccs",
         "2025-07-29T20:26:05"
        ],
        [
         "5",
         "https://ccs.ca/ccs-research-awards/ccs-bayer-resident-vascular-award/",
         "Home\nAbout\nAwards\nCCS Research Fellowships & Awards\nCCS-Bayer Cardiovascular Research Award\nCCS-Bayer Cardiovascular Research Award\nThis award is intended for Canadian clinical trainees (PGY 4-6) for a research project on any topic related to\nthrombosis, anticoagulation, stroke,\nheart failure\n,\natrial fibrillation\n, or cardiac imaging\n.\nThe program is particularly interested in research that has the potential to advance knowledge about or improve the care of patients at risk for vascular, thrombotic or embolic events.\nThree awards totaling up to $45,000 will be awarded on an independent peer review process. A bonus award of $5,000 will be awarded by the audience to one of the three finalists for the most effective and persuasive presentation at the 2022 Canadian Cardiovascular Congress live session.\n2022 Call for Applications: Closed\nCCS-Bayer Cardiovascular Research Award Handbook\nView Past Recipients\nEligibility\nBe a CCS Member*. For more information about CCS Membership, visit the CCS website:\nhttps://ccs.ca/en/membership\n*In order to receive the award funds, you must be a CCS member, however you do NOT need to be a member at the point of application.\nApplicants must be enrolled in a Canadian clinical training program (PGY 4-6) for, but not limited to, adult or pediatric cardiology, cardiac or vascular surgery in a Royal College of Physicians and Surgeons approved program.\nApplicants must be a Canadian Citizen or Permanent Resident of Canada.\nAward funds are solely intended for Canadian research purposes.\nThe award and funds are intended for original research conducted by residents and should not supplement funding for an ongoing project.\nIf the submission refers to a multicenter clinical trial, the applicant must specify their specific role in the research study.\nIf the application is for a sub-study of an ongoing project or trial, the applicant must specify their role and explain how the sub-study is distinct from the main study.\nFunded research must be completed within 12 months from the start of funding.\nApplicants must be available to present their research projects to the judging panel during a digital session at the Canadian Cardiovascular Congress (CCC), in October 2022. Finalists will be provided complimentary registration to CCC 2022.\nThe Award\nThree (3) awards will be awarded based on an independent peer review process.\nAwards:\n$20,000\n$15,000\n$10,000\nAn additional $5,000 prize to be awarded by the CCC session audience to one (1) of the three (3) finalists for the most effective and persuasive presentation. All funds will be administered by the Cardiology Division of the awardee’s affiliated university or equivalent.\nThe Process\nAn evaluation committee of CCS members selected for their subject matter expertise will review all applications and select the three (3) most meritorious finalists.\nEvaluation of applications will be based on three (3) criteria: quality, and feasibility of project, quality of applicant, research environment and mentor.\nThese three (3) finalists will present their research project at a virtual session held during the Canadian Cardiovascular Congress (CCC) in October 2022. During a 10-minute presentation, they will have the opportunity to present the research project and answer questions from the judging panel. Following the three (3) presentations, each of the three (3) finalists will be awarded a CCS-Bayer Cardiovascular Research Award.\nBudget Template\nDownload the budget template here\n.\nThe Peer Review Process and Evaluation Committee\nAll applications will be pre-screened for eligibility. Applications that are late, incomplete and/or do not meet the basic eligibility criteria will be not be considered for review. Peer review of all eligible applications will be conducted by a scientific review committee comprised of CCS members. Reviewers are selected for their expertise in cardiac arrhythmias. All eligible proposals will be reviewed by at least two members of the peer review committee. All applicants will receive feedback from reviewers, upon request.\nIf you have any questions or require support preparing or submitting your application, please email\nresearchawards@ccs.ca\n.\nSupported by:\nThe Canadian Cardiovascular Society and Bayer Inc. are proud to support the CCS-Bayer Cardiovascular Research Award. With this award, we hope to further research in thrombosis, anticoagulation, stroke,\nheart failure\nor\natrial fibrillation\nto improve the lives of Canadians who are affected by these conditions, and their families.\nAbout\nAbout Us\nCCS Code of Conduct\nMission and Vision\nAnnual Reports\nStrategic Plan\nCCS's 75th Anniversary\nJoin Our Team\nBoard of Directors\nPresident’s Page\nPast Presidents\nCommittees\nCCS Initiatives\nMYCOVACC\nCCS Classification of Acute Myocardial Infarction (CCS-AMI)\nAwards\nCCS Recognition Awards\nCCS Research Fellowships & Awards\nCCS Affiliate Awards",
         "main#main-content",
         "ok",
         "ccs",
         "2025-07-29T20:26:05"
        ],
        [
         "6",
         "https://ccs.ca/ccs-research-awards/ccs-hls-atherosclerosis-research-award/",
         "Home\nAbout\nAwards\nCCS Research Fellowships & Awards\nCCS/HLS Atherosclerosis Research Award\nCCS/HLS Atherosclerosis Research Award\nThe Canadian Cardiovascular Society and HLS Therapeutics are proud to support the CCS/HLS Atherosclerosis Research Award. This research award will support innovative groundbreaking clinical research projects in the area of atherosclerosis. Priority will be given to research that has the potential to advance clinical knowledge of atherosclerosis process linked to inflammation, membrane stability and biomarkers.\nThis Award is intended for Canadian MDs in the first 5 years of their first clinical appointment in an academic department for a research project on the topic of atherosclerosis.\nA single award of $35,000 will be awarded based on an independent peer review process.\n2022 Call for Applications: Closed\nCCS-HLS Atherosclerosis Research Award Handbook\nView Past Recipients\nEligibility\nBe a CCS Member. For more information about CCS Membership, visit the CCS website: https://ccs.ca/en/membership\nApplicants must be a Canadian MD in their first 5 years of their first clinical appointment in an academic department at an eligible Canadian institution.\nApplicants must be a Canadian Citizen or Permanent Resident of Canada.\nAward funds are solely intended for Canadian research purposes.\nFunded research must be conducted at a site in Canada associated with Canadian research institutions that are eligible to hold research funding (https://cihr-irsc.gc.ca/e/36374.html).\nThe award and funds are intended for original research – if the application:\nrefers to a multicenter clinical trial, the applicant must specify their specific role in the research study.\nis for a sub-study of an ongoing project or trial, the applicant must specify their role and explain how the sub-study is distinct from the main study.\nFunded research must be completed within 12 months from the start of funding.\nThe Award\nA single award of $35,000 will be awarded based on an independent peer review process.\nAward funds will be administered by the Cardiology Division of the awardee’s affiliated university, or equivalent.\nBudget Template\nDownload the budget template here\n.\nPeer Review Process and Evaluation Committee\nAll applications will be pre-screened for eligibility. Applications that are late, incorrectly formatted, incomplete and/or do not meet the basic eligibility criteria will not be considered for review.\nPeer review of all eligible applications will be conducted by a scientific review committee comprised of CCS members. Reviewers are selected for their subject matter expertise. All eligible proposals will be reviewed by at least three members of the peer review committee. All applicants will receive feedback from reviewers, upon request.\nIf you have questions about the submission process or require assistance with submitting your application, please contact\nresearchawards@ccs.ca\n.\nSupported by:\nThe Canadian Cardiovascular Society and HLS are proud to support the CCS-HLS Atherosclerosis Research Award. With this award, we hope to further research on atherosclerosis to improve the lives of Canadians who are affected by this condition, and their families.\nAbout\nAbout Us\nCCS Code of Conduct\nMission and Vision\nAnnual Reports\nStrategic Plan\nCCS's 75th Anniversary\nJoin Our Team\nBoard of Directors\nPresident’s Page\nPast Presidents\nCommittees\nCCS Initiatives\nMYCOVACC\nCCS Classification of Acute Myocardial Infarction (CCS-AMI)\nAwards\nCCS Recognition Awards\nCCS Research Fellowships & Awards\nCCS Affiliate Awards",
         "main#main-content",
         "ok",
         "ccs",
         "2025-07-29T20:26:05"
        ],
        [
         "7",
         "https://ccs.ca/ccs-research-awards/ccs-hls-atherosclerosis-research-award/",
         "Home\nAbout\nAwards\nCCS Research Fellowships & Awards\nCCS/HLS Atherosclerosis Research Award\nCCS/HLS Atherosclerosis Research Award\nThe Canadian Cardiovascular Society and HLS Therapeutics are proud to support the CCS/HLS Atherosclerosis Research Award. This research award will support innovative groundbreaking clinical research projects in the area of atherosclerosis. Priority will be given to research that has the potential to advance clinical knowledge of atherosclerosis process linked to inflammation, membrane stability and biomarkers.\nThis Award is intended for Canadian MDs in the first 5 years of their first clinical appointment in an academic department for a research project on the topic of atherosclerosis.\nA single award of $35,000 will be awarded based on an independent peer review process.\n2022 Call for Applications: Closed\nCCS-HLS Atherosclerosis Research Award Handbook\nView Past Recipients\nEligibility\nBe a CCS Member. For more information about CCS Membership, visit the CCS website: https://ccs.ca/en/membership\nApplicants must be a Canadian MD in their first 5 years of their first clinical appointment in an academic department at an eligible Canadian institution.\nApplicants must be a Canadian Citizen or Permanent Resident of Canada.\nAward funds are solely intended for Canadian research purposes.\nFunded research must be conducted at a site in Canada associated with Canadian research institutions that are eligible to hold research funding (https://cihr-irsc.gc.ca/e/36374.html).\nThe award and funds are intended for original research – if the application:\nrefers to a multicenter clinical trial, the applicant must specify their specific role in the research study.\nis for a sub-study of an ongoing project or trial, the applicant must specify their role and explain how the sub-study is distinct from the main study.\nFunded research must be completed within 12 months from the start of funding.\nThe Award\nA single award of $35,000 will be awarded based on an independent peer review process.\nAward funds will be administered by the Cardiology Division of the awardee’s affiliated university, or equivalent.\nBudget Template\nDownload the budget template here\n.\nPeer Review Process and Evaluation Committee\nAll applications will be pre-screened for eligibility. Applications that are late, incorrectly formatted, incomplete and/or do not meet the basic eligibility criteria will not be considered for review.\nPeer review of all eligible applications will be conducted by a scientific review committee comprised of CCS members. Reviewers are selected for their subject matter expertise. All eligible proposals will be reviewed by at least three members of the peer review committee. All applicants will receive feedback from reviewers, upon request.\nIf you have questions about the submission process or require assistance with submitting your application, please contact\nresearchawards@ccs.ca\n.\nSupported by:\nThe Canadian Cardiovascular Society and HLS are proud to support the CCS-HLS Atherosclerosis Research Award. With this award, we hope to further research on atherosclerosis to improve the lives of Canadians who are affected by this condition, and their families.\nAbout\nAbout Us\nCCS Code of Conduct\nMission and Vision\nAnnual Reports\nStrategic Plan\nCCS's 75th Anniversary\nJoin Our Team\nBoard of Directors\nPresident’s Page\nPast Presidents\nCommittees\nCCS Initiatives\nMYCOVACC\nCCS Classification of Acute Myocardial Infarction (CCS-AMI)\nAwards\nCCS Recognition Awards\nCCS Research Fellowships & Awards\nCCS Affiliate Awards",
         "main#main-content",
         "ok",
         "ccs",
         "2025-07-29T20:26:05"
        ],
        [
         "8",
         "https://ccs.ca/ccs-research-awards/ccs-bms-pfizer-af-research-award/",
         "Home\nAbout\nAwards\nCCS Research Fellowships & Awards\nThe CCS/BMS-Pfizer Atrial Fibrillation (AF) Research Award\nThe CCS/BMS-Pfizer Atrial Fibrillation (AF) Research Award\nSince 2015, BMS-Pfizer and the CCS have awarded $2M to 27 early career researchers to support clinical, health services or population health research related to\natrial fibrillation\n(AF). These multi-year research projects not only promote excellence in AF research but will ultimately improve the lives of Canadians living with AF.\nAF Award Handbook\nView Past Recipients\nEligibility\nThe principle investigator must:\nbe a\nCCS member\nin good standing;\nbe in early career, i.e. a researcher who has held a full-time research appointment for a period of no longer than seven (7) years as of the competition deadline;\nhold an MD, and/or PhD and/or PharmD, or equivalent degree;\nbe a Canadian citizen or landed immigrant with permanent residence in Canada;\nhold an academic appointment in an eligible Canadian research institution;\nnot have received funding from another organization (e.g., academic/ research institution, federal or provincial government funding agency, charity or NGO,  pharmaceutical company, other research funder) for the proposal being submitted\nNote\n: If the proposed study has co-PIs, the PI who is the primary contact must be in early career with an eligible academic appointment in an eligible Canadian research institution\n. Co-investigators may be at any career stage including trainees. Research teams are encouraged to include trainees and senior career mentors.\nThe proposed research must:\nbe clinical, health services/systems or population health research (see CIHR definitions for Themes II-IV research); proposals for basic biomedical (Theme I) research will not be considered\nnot involve a drug and/or medical device supply from any industry company.\nclearly identify the portion of the project that would be funded in its entirety by this award if the proposal is part of a larger research project\nbe completed within 36 months from the start of funding\nbe conducted in line with ICH guidelines and Canadian regulations (Health Canada) if a trial involving humans\nNote:\nIf the proposed study has co-PIs, the PI who is the primary contact must be in early career. Co-investigators may be at any career stage including trainees. Research teams are encouraged to include trainees and senior career mentors.\nThe award\nThree (3) awards of up to $100,000 each will be awarded based on an independent peer review process.\nOnly the direct costs of research will be covered. No funding is to be used for indirect costs that cannot be directly associated with the proposed research.\nProposal budgets must not include salary support for principal or co-investigators. Salary support for students, technicians, nurses or support staff can be part of the budget request but must not exceed 50% of the total requested budget.\nBudgets may include up to $5,000 for travel to present related work. Awardees are expected to attend the annual Canadian Cardiovascular Congress. These costs shall be covered by the budgeted travel amount.\nAward funds cannot be used for the purchase of major equipment. Minor pieces of equipment can be part of the budget request but must not exceed 25% of the total grant request.\nAll awardees are expected to attend the Canadian Cardiovascular Congress. The CCS be contact awardees about participating in recognition events during CCC. The award travel budget may be used to cover awardee travel, accommodation and CCC registration.\nThe peer review process\nAll applications will be pre-screened for eligibility. Applications that are late, incomplete and/or do not meet the basic eligibility criteria will be not be considered for review.Peer review of all eligible applications will be conducted by a scientific review committee comprised of CCS members. Reviewers are selected for their expertise in cardiac arrhythmias.All eligible proposals will be reviewed by at least two members of the peer review committee. All applicants will receive feedback from reviewers. All applicants will receive notification of funding/non-funding and awards will be announced by June 30.\nIf you have any questions or require support preparing or submitting your application, please email\nresearchawards@ccs.ca\n.\nAbout\nAbout Us\nCCS Code of Conduct\nMission and Vision\nAnnual Reports\nStrategic Plan\nCCS's 75th Anniversary\nJoin Our Team\nBoard of Directors\nPresident’s Page\nPast Presidents\nCommittees\nCCS Initiatives\nMYCOVACC\nCCS Classification of Acute Myocardial Infarction (CCS-AMI)\nAwards\nCCS Recognition Awards\nCCS Research Fellowships & Awards\nCCS Affiliate Awards",
         "main#main-content",
         "ok",
         "ccs",
         "2025-07-29T20:26:05"
        ],
        [
         "9",
         "https://ccs.ca/ccs-research-awards/ccs-bms-pfizer-af-research-award/",
         "Home\nAbout\nAwards\nCCS Research Fellowships & Awards\nThe CCS/BMS-Pfizer Atrial Fibrillation (AF) Research Award\nThe CCS/BMS-Pfizer Atrial Fibrillation (AF) Research Award\nSince 2015, BMS-Pfizer and the CCS have awarded $2M to 27 early career researchers to support clinical, health services or population health research related to\natrial fibrillation\n(AF). These multi-year research projects not only promote excellence in AF research but will ultimately improve the lives of Canadians living with AF.\nAF Award Handbook\nView Past Recipients\nEligibility\nThe principle investigator must:\nbe a\nCCS member\nin good standing;\nbe in early career, i.e. a researcher who has held a full-time research appointment for a period of no longer than seven (7) years as of the competition deadline;\nhold an MD, and/or PhD and/or PharmD, or equivalent degree;\nbe a Canadian citizen or landed immigrant with permanent residence in Canada;\nhold an academic appointment in an eligible Canadian research institution;\nnot have received funding from another organization (e.g., academic/ research institution, federal or provincial government funding agency, charity or NGO,  pharmaceutical company, other research funder) for the proposal being submitted\nNote\n: If the proposed study has co-PIs, the PI who is the primary contact must be in early career with an eligible academic appointment in an eligible Canadian research institution\n. Co-investigators may be at any career stage including trainees. Research teams are encouraged to include trainees and senior career mentors.\nThe proposed research must:\nbe clinical, health services/systems or population health research (see CIHR definitions for Themes II-IV research); proposals for basic biomedical (Theme I) research will not be considered\nnot involve a drug and/or medical device supply from any industry company.\nclearly identify the portion of the project that would be funded in its entirety by this award if the proposal is part of a larger research project\nbe completed within 36 months from the start of funding\nbe conducted in line with ICH guidelines and Canadian regulations (Health Canada) if a trial involving humans\nNote:\nIf the proposed study has co-PIs, the PI who is the primary contact must be in early career. Co-investigators may be at any career stage including trainees. Research teams are encouraged to include trainees and senior career mentors.\nThe award\nThree (3) awards of up to $100,000 each will be awarded based on an independent peer review process.\nOnly the direct costs of research will be covered. No funding is to be used for indirect costs that cannot be directly associated with the proposed research.\nProposal budgets must not include salary support for principal or co-investigators. Salary support for students, technicians, nurses or support staff can be part of the budget request but must not exceed 50% of the total requested budget.\nBudgets may include up to $5,000 for travel to present related work. Awardees are expected to attend the annual Canadian Cardiovascular Congress. These costs shall be covered by the budgeted travel amount.\nAward funds cannot be used for the purchase of major equipment. Minor pieces of equipment can be part of the budget request but must not exceed 25% of the total grant request.\nAll awardees are expected to attend the Canadian Cardiovascular Congress. The CCS be contact awardees about participating in recognition events during CCC. The award travel budget may be used to cover awardee travel, accommodation and CCC registration.\nThe peer review process\nAll applications will be pre-screened for eligibility. Applications that are late, incomplete and/or do not meet the basic eligibility criteria will be not be considered for review.Peer review of all eligible applications will be conducted by a scientific review committee comprised of CCS members. Reviewers are selected for their expertise in cardiac arrhythmias.All eligible proposals will be reviewed by at least two members of the peer review committee. All applicants will receive feedback from reviewers. All applicants will receive notification of funding/non-funding and awards will be announced by June 30.\nIf you have any questions or require support preparing or submitting your application, please email\nresearchawards@ccs.ca\n.\nAbout\nAbout Us\nCCS Code of Conduct\nMission and Vision\nAnnual Reports\nStrategic Plan\nCCS's 75th Anniversary\nJoin Our Team\nBoard of Directors\nPresident’s Page\nPast Presidents\nCommittees\nCCS Initiatives\nMYCOVACC\nCCS Classification of Acute Myocardial Infarction (CCS-AMI)\nAwards\nCCS Recognition Awards\nCCS Research Fellowships & Awards\nCCS Affiliate Awards",
         "main#main-content",
         "ok",
         "ccs",
         "2025-07-29T20:26:05"
        ],
        [
         "10",
         "https://ccs.ca/ccs-research-awards/ccs-bayer-resident-vascular-award/",
         "Home\nAbout\nAwards\nCCS Research Fellowships & Awards\nCCS-Bayer Cardiovascular Research Award\nCCS-Bayer Cardiovascular Research Award\nThis award is intended for Canadian clinical trainees (PGY 4-6) for a research project on any topic related to\nthrombosis, anticoagulation, stroke,\nheart failure\n,\natrial fibrillation\n, or cardiac imaging\n.\nThe program is particularly interested in research that has the potential to advance knowledge about or improve the care of patients at risk for vascular, thrombotic or embolic events.\nThree awards totaling up to $45,000 will be awarded on an independent peer review process. A bonus award of $5,000 will be awarded by the audience to one of the three finalists for the most effective and persuasive presentation at the 2022 Canadian Cardiovascular Congress live session.\n2022 Call for Applications: Closed\nCCS-Bayer Cardiovascular Research Award Handbook\nView Past Recipients\nEligibility\nBe a CCS Member*. For more information about CCS Membership, visit the CCS website:\nhttps://ccs.ca/en/membership\n*In order to receive the award funds, you must be a CCS member, however you do NOT need to be a member at the point of application.\nApplicants must be enrolled in a Canadian clinical training program (PGY 4-6) for, but not limited to, adult or pediatric cardiology, cardiac or vascular surgery in a Royal College of Physicians and Surgeons approved program.\nApplicants must be a Canadian Citizen or Permanent Resident of Canada.\nAward funds are solely intended for Canadian research purposes.\nThe award and funds are intended for original research conducted by residents and should not supplement funding for an ongoing project.\nIf the submission refers to a multicenter clinical trial, the applicant must specify their specific role in the research study.\nIf the application is for a sub-study of an ongoing project or trial, the applicant must specify their role and explain how the sub-study is distinct from the main study.\nFunded research must be completed within 12 months from the start of funding.\nApplicants must be available to present their research projects to the judging panel during a digital session at the Canadian Cardiovascular Congress (CCC), in October 2022. Finalists will be provided complimentary registration to CCC 2022.\nThe Award\nThree (3) awards will be awarded based on an independent peer review process.\nAwards:\n$20,000\n$15,000\n$10,000\nAn additional $5,000 prize to be awarded by the CCC session audience to one (1) of the three (3) finalists for the most effective and persuasive presentation. All funds will be administered by the Cardiology Division of the awardee’s affiliated university or equivalent.\nThe Process\nAn evaluation committee of CCS members selected for their subject matter expertise will review all applications and select the three (3) most meritorious finalists.\nEvaluation of applications will be based on three (3) criteria: quality, and feasibility of project, quality of applicant, research environment and mentor.\nThese three (3) finalists will present their research project at a virtual session held during the Canadian Cardiovascular Congress (CCC) in October 2022. During a 10-minute presentation, they will have the opportunity to present the research project and answer questions from the judging panel. Following the three (3) presentations, each of the three (3) finalists will be awarded a CCS-Bayer Cardiovascular Research Award.\nBudget Template\nDownload the budget template here\n.\nThe Peer Review Process and Evaluation Committee\nAll applications will be pre-screened for eligibility. Applications that are late, incomplete and/or do not meet the basic eligibility criteria will be not be considered for review. Peer review of all eligible applications will be conducted by a scientific review committee comprised of CCS members. Reviewers are selected for their expertise in cardiac arrhythmias. All eligible proposals will be reviewed by at least two members of the peer review committee. All applicants will receive feedback from reviewers, upon request.\nIf you have any questions or require support preparing or submitting your application, please email\nresearchawards@ccs.ca\n.\nSupported by:\nThe Canadian Cardiovascular Society and Bayer Inc. are proud to support the CCS-Bayer Cardiovascular Research Award. With this award, we hope to further research in thrombosis, anticoagulation, stroke,\nheart failure\nor\natrial fibrillation\nto improve the lives of Canadians who are affected by these conditions, and their families.\nAbout\nAbout Us\nCCS Code of Conduct\nMission and Vision\nAnnual Reports\nStrategic Plan\nCCS's 75th Anniversary\nJoin Our Team\nBoard of Directors\nPresident’s Page\nPast Presidents\nCommittees\nCCS Initiatives\nMYCOVACC\nCCS Classification of Acute Myocardial Infarction (CCS-AMI)\nAwards\nCCS Recognition Awards\nCCS Research Fellowships & Awards\nCCS Affiliate Awards",
         "main#main-content",
         "ok",
         "ccs",
         "2025-07-29T20:26:05"
        ],
        [
         "11",
         "https://ccs.ca/ccs-research-awards/ccs-pfizer-heart-failure-disparities-in-indigenous-communities-research-fellowship-award/",
         "Home\nAbout\nAwards\nCCS Research Fellowships & Awards\nCCS/Pfizer/CHF Alliance Fellowship Award in FNIM Communities Experiencing Heart Function Inequities\nCCS/Pfizer/CHF Alliance Fellowship Award in FNIM Communities Experiencing Heart Function Inequities\nThe Canadian Cardiovascular Society, Pfizer, and the Canadian Heart Function Alliance (CHF Alliance) are proud to support the CCS/Pfizer/Canadian Heart Function Alliance Research Fellowship Award in First Nations, Inuit and Métis (FNIM) Communities Experiencing Heart Function (HF) Inequities. The purpose of this award is to support growth and excellence in research focused on better understanding and addressing the heart function inequities experienced by First Nations, Inuit and Métis, in both health generally and HF care more specifically. This award is focused on successful early career Canadian researchers familiar with diagnosing and caring for FNIM people with HF.\nApplication Deadline:\nClosed for 2024\nAward Handbook\nPast Award Recipients\nEligibility\nBe a CCS Member*. For more information about CCS Membership, visit the CCS website:\nhttps://ccs.ca/en/membership\n.\n*You must be a CCS member to accept funding, but you can apply without being a member!\nApplicants must be a Canadian Citizen or Permanent Resident of Canada at the time funding is received.\nPreference for applicants who agree to have their projects become part of the CHF Alliance structure and to present their protocols, project updates, results, and knowledge translation plans at internal CHF Alliance meetings. Visit the CHF Alliance website for more information about the structure:\nhttps://www.chfalliance.ca/chf-alliance\n.\nThe principal investigator must have completed an MD degree (or equivalent) and have obtained a fellowship from the Royal College of Physicians & Surgeons of Canada (or equivalent from a foreign country) or from the Canadian College of Family Physicians; or have completed a PharmD; or have completed a PhD (post-doc).\nPreference for principle investigators with a proven track record in FNMI health research, with demonstrated engagement and commitment to the FNIM community. For example:\nTCPS 2 certificate\nTraining in FNIM people and their health (certificate, transcript or a few paragraphs on key learnings)\nEvidence of engagement with FNIM people (ie. letter of support, engagement plan, etc.)\nApplicants must provide a letter of acceptance to a faculty or clinical position at a Canadian institution.\nApplicants must demonstrate support by the university or institution at which the applicant will conduct the proposed research program. Requirement for a statement completed by the Dean and Department Head (or institutional equivalents) demonstrating commitment of the university or institution to provide the applicant appropriate academic rank, time allocated to the proposed research program, and to provide adequate space and facilities for the investigator’s research, as well as a commitment to developing the applicant’s research, technical and professional skills and networks over the training period by providing career planning, skills development and networking opportunities to prepare the trainee for an impactful career.\nPreference for applicants from institutions with a demonstrable commitment to reconciliation that might support the Fellow in conducting their proposed research (for example, institutions that have offices of Indigenous engagement, agreements in place with Indigenous communities, or Elders and Knowledge Holders on staff that could support the Fellow).\nApplicants can be principal investigators on only one application.\nAward funds are solely intended for research performed in Canada.\nThis salary award is intended for a Fellow to perform original research that is either clinical or translational with expected impact on patient care. Proposal should not request supplemental funding for a project that has extramural funding.\nIf the submission refers to a multicenter clinical trial, the applicant must indicate their specific role in the research study.\nIf the application is for a sub-study of an ongoing project or trial, the applicant must specify their role and explain how the sub-study is distinct from the main study.\nIf funded, proposed research must be completed within 12 months (with consideration for projects up to 24 months) from the start of funding.\nResearch status reports will be required on October 1st of every year that the project is running.\nEligible Areas of Research\nAward funds are solely intended for Canadian research purposes. eligible research activities must involve clinical outcomes research or clinical research in an area related to prediction, prevention, diagnosis and management of HF in the Canadian First Nations, Inuit and Métis (FNIM) communities (spanning the lifecycle of patients from young to elderly, from rural to urban, and across geographic and socio-economic barriers) with strong preference for:\nMulti-institutional collaboration, particularly with sites involved with the CHF Alliance\nResearch proposals with demonstrable ability to meet objectives within the 12-month term of the fellowship\nThe Peer Review Process and Evaluation Committee\nAll applications will be pre-screened for eligibility. Applications that are late, incorrectly formatted, incomplete and/or do not meet the basic eligibility criteria will not be considered for review.\nPeer review of all eligible applications will be conducted by a scientific review committee comprised of CCS members. Reviewers are selected for their subject matter expertise. All eligible proposals will be reviewed by at least two members of the peer review committee.\nIf you have any questions or require support preparing or submitting your application, please email\nresearchawards@ccs.ca\n.\nSupported by:\nAbout\nAbout Us\nCCS Code of Conduct\nMission and Vision\nAnnual Reports\nStrategic Plan\nCCS's 75th Anniversary\nJoin Our Team\nBoard of Directors\nPresident’s Page\nPast Presidents\nCommittees\nCCS Initiatives\nMYCOVACC\nCCS Classification of Acute Myocardial Infarction (CCS-AMI)\nAwards\nCCS Recognition Awards\nCCS Research Fellowships & Awards\nCCS Affiliate Awards",
         "main#main-content",
         "ok",
         "ccs",
         "2025-07-29T20:26:05"
        ],
        [
         "12",
         "https://ccs.ca/canadian-pediatric-cardiology-association/",
         "Home\nPartnerships\nCCS Affiliate Societies / One Heart Team\nCanadian Pediatric Cardiology Association\nCanadian Pediatric Cardiology Association\nAbout the CPCA\nGovernance\nMembership\nCPCA Awards\nEvents & Resources\nFind a Centre\nAbout Us\nThe Canadian Pediatric Cardiology Association (CPCA) was formed in 1971 with the goal to advance the practice of Pediatric Cardiology in Canada. The CPCA serves as a vehicle to promote collaboration and communication between physicians and trainees across the country within this diverse and rapidly expanding field.\nThe CPCA network helps facilitate development of clinical care guidelines, pan-Canadian research initiatives, and educational programs for trainees and cardiologists.\nAs an Affiliate Society of the Canadian Cardiovascular Society (CCS), the CPCA is an active participant in the annual Canadian Cardiovascular Congress (CCC).\nBy becoming a CPCA member, you can play an active role in the strengthening of our vibrant Canadian Pediatric Cardiology community!\nCPCA Mission Statement\nThe CPCA is the national voice for pediatric cardiac clinicians and scientists, promoting healthcare excellence through research, knowledge translation, professional development, and leadership in health policy and advocacy.\nContact Us\nCanadian Pediatric Cardiology Association\n150 Elgin Street, Suite 1000\nOttawa, ON K2P 1L4\n343-655-1932\ncpca@ccs.ca\nPartnerships\nCCS Affiliate Societies / One Heart Team\nCanadian Adult Congenital Heart Network (CACHnet)\nCanadian Association of Interventional Cardiology (CAIC)\nCanadian Cardiac Oncology Network (CCON)\nCanadian Cardiac Transplant Network (CCTN)\nCanadian Cardiovascular Critical Care Society (CANCARE)\nCanadian Cardiovascular Pharmacists Network (CCPN)\nCanadian Heart Failure Society (CHFS)\nCanadian Heart Rhythm Society (CHRS)\nCanadian Pediatric Cardiology Association (CPCA)\nCanadian Society of Cardiac Surgeons (CSCS)\nCanadian Society of Cardiovascular MRI (CSCMRI)\nCanadian Society of Cardiovascular Nuclear and CT Imaging (CNCT)\nCanadian Society of Echocardiography (CSE)\nCanadian Society of Vascular Medicine (CSVM)\nCanadian Alliance of Cardiovascular Centres\nAbout the CACC\nGovernance\nMembers\nWorking Groups\nPrincipal Partners\nOpportunities\nOther Partnerships",
         "main#main-content",
         "ok",
         "ccs",
         "2025-07-29T20:26:05"
        ],
        [
         "13",
         "https://ccs.ca/bursaries-grants-and-awards/",
         "Home\nTrainees/Early Career\nBursaries, Grants and Awards\nBursaries, Grants and Awards\nHere is a list of great resources if you are looking for bursaries, grants, scholarships or awards in medicine in Canada:\nCHRS Trainee Travel Grant\nDescription: The Canadian Heart Rhythm Society (CHRS) offers support to trainees travelling to conferences to present their research. These grants are reserved for CHRS members presenting their research in the electrophysiology field at a heart rhythm/arrhythmia related meeting.\nDr. Charles Kerr Award\n– Canadian Cardiovasular Society\nDescription: This new annual CCSA award seeks not only to honor the memory and actions of Dr. Kerr as a humanitarian but to acknowledge those residents who personify his ideals and embody the same commitment to helping others.\nHave a Heart Bursary Program\n– Canadian Cardiovascular Society\nDescription: The ‘Have a Heart’ Bursary program is a travel bursary program designed to introduce promising young Canadian medical students, post-graduate trainees, and basic scientists-in-training to the cardiovascular field in Canada.\nCCS Awards\nDescription: Each year, the Canadian Cardiovascular Society (CCS) recognizes the outstanding achievements of individual Canadians and Canadian organizations that contribute to cardiovascular health and care. CCS Awards are granted for excellence in research, teaching, exemplary care, prevention of cardiovascular diseases and overall career contribution.\nCanadian Cardiovascular Society – Bayer Resident Vascular Award\nDescription: This Award is intended for Canadian clinical trainees (PGY 4-6) for a research project on any topic related to thrombosis, anticoagulation, stroke, or\natrial fibrillation\n. Applicants must be residents enrolled in a Canadian clinical training program (PGY 4-6) for, but not limited to, adult or pediatric cardiology, cardiac or vascular surgery.\nMedicine Scholarships in Canada\nDescription: An extensive list of medicine scholarships awarded in Canada for higher education students. Includes scholarships, awards, prizes and bursaries in the field of Medicine.\nRoyal College Funding Opportunities\nDescription: An extensive list of medical education-related grants, awards, and Fellowships. Content is reviewed and updated bi-weekly (or when applicable).\nCanadian Institutes of Health Research\nDescription: The Canadian Institutes of Health Research (CIHR) is Canada’s federal funding agency for health research.\nFonds de recherche Santé Québec\nDescription: The FRSQ allocates $100 million annually in awards and grants for public-sector research into human health carried out today in universities and hospital-based research centres.\nHeart and Stroke research programs\nDescription: The Heart and Stroke Foundation supports the development of researchers across the research career spectrum from doctoral students to career investigators.\nVanier Canada Graduate Scholarships\nDescription: The Vanier Canada Graduate Scholarships (Vanier CGS) program attracts and retains world-class doctoral students and helps establish Canada as a global centre of excellence in research and higher learning.\nCMA Special Awards\nDescription: CMA awards in a broad range of fields.\nBourses de recherche de la SQIC\nDescription: Bursaries for research projects in the field of heart failure.\nMackenzie King Scholarships\nDescription: The Open Scholarship is available to graduates of Canadian universities who pursue graduate study in any discipline, in Canada or elsewhere. One Open Scholarship is awarded each year. The value has recently been about $8500 but it is subject to change.\nCARMS Sandra Banner Student Award for Leadership\nDescription: The purpose of these annual awards is to encourage the development of future leaders in medicine, through public recognition and financial support of one undergraduate and one postgraduate medical trainee who has demonstrated interest in/aptitude for leadership.\nTrainees/Early Career\nAbout Members in Training\nAbout Early Career Members\nTrainee Networking Events\nFirst Year Residents’ Bootcamp\nTrainee Review Programs (TRPs)\nBursaries, Grants and Awards\nFellowship Database",
         "main#main-content",
         "ok",
         "ccs",
         "2025-07-29T20:26:05"
        ],
        [
         "14",
         "https://ccs.ca/calculators-and-forms/",
         "Home\nGuidelines\nGuideline Resources\nCalculators and Forms\nCalculators and Forms\nStandardized Protocol for MRI in patients with CIEDs\nHeart Failure Medication Initiation and Treatment (ARNI, ACEi/ARBs, BBs, Diuretics, MRAs)\nCardiometabolic Risk Calculator\n– Courtesy of McGill University\nCardioRisk Calculator™\n– Courtesy of Cardiovascular Imaging Research Core Lab, UBC\nCardiovascular Age +FRS Calculator (My Health Checkup)\n– Courtesy of McGill University\nFramingham Risk Score (FRS) Calculator\nHAS-BLED Score Calculator\n– Courtesy of MedSquares\nHeart Failure Referral Form\nPreOperative Clinic Screening Pacemaker / ICD Assessment Request Form\nGuidelines\nGuidelines & KT Tools\nPeripheral Arterial Disease\nHeart Failure\nDyslipidemia\nAtrial Fibrillation\nDrive & Fly\nAbout Guidelines\nGuideline Development\nCall for Topics Information Guide\nOpen Call to CCS Members: Potential for Guideline/CPU Writing Panels\nGuidelines and CPU Library\nGuideline Resources\nEducational Slide Decks\nCompanion Resources\nGuidelines and CPU Library\nPocket Guides\nCalculators and Forms\nGuidelines TV\nOn-Demand Guideline Webinars\niCCS App",
         "main#main-content",
         "ok",
         "ccs",
         "2025-07-29T20:26:05"
        ],
        [
         "15",
         "https://ccs.ca/c3i-dashboard/",
         "Home\nC3I Dashboard\nC3I Dashboard\nIMPACT OF COVID-19 POLICIES ON CARDIOVASCULAR CARE IN CANADA\nDr. Harindra Wijeysundera, Chair CCS-COVID-19 Challenge for Canada Initiative\nClick the image above to visit the C3I Dashboard.\nOverview\nThe mission of the Canadian Cardiovascular Society (CCS) COVID-19 Challenge for Canada Initiative (CCS-C3I) is to provide a pan-Canadian understanding of the impact that COVID-19 has on cardiovascular care. Specifically, we are interested in looking at the spillover impact on cardiovascular care due to the COVID-19 pandemic public health countermeasures from March 2020, such as the slow-down of scheduled surgeries and procedures. Our goal is to reduce the cardiovascular health consequences of the current and subsequent waves of the COVID-19 pandemic, by providing up-to-date data from across Canada to health care providers, administrators and policy makers. Data is provided by national (CIHI) and provincial data custodians and will be updated every three months. We have focused on the cardiovascular admissions and procedures, reported per week, also reported at national and provincial (where possible) levels. To understand the severity of the cases, we also report the average length of stay per admission/procedure/week and the mean deaths/100 cases. The outcomes are reported only at a national level.\nInterpretation\nFrom March 2020, there was a substantial reduction in all CV procedures and admissions. There is no signal on the current data that outcomes were worse for the admissions and procedures performed. We anticipate having patient wait-list data soon.\nData is updated as new “open data” is available from CIHI and other jurisdictional data sources. The open data will be updated every 3 months and may reflect under-reporting from individual institutions.\nAll counts with < 5 people is suppressed as per privacy regulations.\nCOVID-19 statistics are provided by Johns Hopkins University. Last updated on Mon Dec 07 2020 08:01:42 GMT-0500 (Eastern Standard Time).\nThe start of the COVID-19 pandemic is marked with a red line (the 10th week of 2020).",
         "main#main-content",
         "ok",
         "ccs",
         "2025-07-29T20:26:05"
        ],
        [
         "16",
         "https://ccs.ca/c3i-dashboard/",
         "Home\nC3I Dashboard\nC3I Dashboard\nIMPACT OF COVID-19 POLICIES ON CARDIOVASCULAR CARE IN CANADA\nDr. Harindra Wijeysundera, Chair CCS-COVID-19 Challenge for Canada Initiative\nClick the image above to visit the C3I Dashboard.\nOverview\nThe mission of the Canadian Cardiovascular Society (CCS) COVID-19 Challenge for Canada Initiative (CCS-C3I) is to provide a pan-Canadian understanding of the impact that COVID-19 has on cardiovascular care. Specifically, we are interested in looking at the spillover impact on cardiovascular care due to the COVID-19 pandemic public health countermeasures from March 2020, such as the slow-down of scheduled surgeries and procedures. Our goal is to reduce the cardiovascular health consequences of the current and subsequent waves of the COVID-19 pandemic, by providing up-to-date data from across Canada to health care providers, administrators and policy makers. Data is provided by national (CIHI) and provincial data custodians and will be updated every three months. We have focused on the cardiovascular admissions and procedures, reported per week, also reported at national and provincial (where possible) levels. To understand the severity of the cases, we also report the average length of stay per admission/procedure/week and the mean deaths/100 cases. The outcomes are reported only at a national level.\nInterpretation\nFrom March 2020, there was a substantial reduction in all CV procedures and admissions. There is no signal on the current data that outcomes were worse for the admissions and procedures performed. We anticipate having patient wait-list data soon.\nData is updated as new “open data” is available from CIHI and other jurisdictional data sources. The open data will be updated every 3 months and may reflect under-reporting from individual institutions.\nAll counts with < 5 people is suppressed as per privacy regulations.\nCOVID-19 statistics are provided by Johns Hopkins University. Last updated on Mon Dec 07 2020 08:01:42 GMT-0500 (Eastern Standard Time).\nThe start of the COVID-19 pandemic is marked with a red line (the 10th week of 2020).",
         "main#main-content",
         "ok",
         "ccs",
         "2025-07-29T20:26:05"
        ],
        [
         "17",
         "https://ccs.ca/calculators-and-forms/",
         "Home\nGuidelines\nGuideline Resources\nCalculators and Forms\nCalculators and Forms\nStandardized Protocol for MRI in patients with CIEDs\nHeart Failure Medication Initiation and Treatment (ARNI, ACEi/ARBs, BBs, Diuretics, MRAs)\nCardiometabolic Risk Calculator\n– Courtesy of McGill University\nCardioRisk Calculator™\n– Courtesy of Cardiovascular Imaging Research Core Lab, UBC\nCardiovascular Age +FRS Calculator (My Health Checkup)\n– Courtesy of McGill University\nFramingham Risk Score (FRS) Calculator\nHAS-BLED Score Calculator\n– Courtesy of MedSquares\nHeart Failure Referral Form\nPreOperative Clinic Screening Pacemaker / ICD Assessment Request Form\nGuidelines\nGuidelines & KT Tools\nPeripheral Arterial Disease\nHeart Failure\nDyslipidemia\nAtrial Fibrillation\nDrive & Fly\nAbout Guidelines\nGuideline Development\nCall for Topics Information Guide\nOpen Call to CCS Members: Potential for Guideline/CPU Writing Panels\nGuidelines and CPU Library\nGuideline Resources\nEducational Slide Decks\nCompanion Resources\nGuidelines and CPU Library\nPocket Guides\nCalculators and Forms\nGuidelines TV\nOn-Demand Guideline Webinars\niCCS App",
         "main#main-content",
         "ok",
         "ccs",
         "2025-07-29T20:26:05"
        ],
        [
         "18",
         "https://ccs.ca/canadian-cardiac-transplant-network/",
         "Home\nPartnerships\nCCS Affiliate Societies / One Heart Team\nCanadian Cardiac Transplant Network\nCanadian Cardiac Transplant Network\nAbout CCTN\nGovernance\nMembership\nActivities & Awards\nResources\nHeart Statistics\nAbout CCTN\nThe Canadian Cardiac Transplant Network (CCTN) was federally incorporated in 2013 as a non-profit organization with the purpose to advance the practice of cardiac transplantation and mechanical circulatory assist device therapy in Canada, including:\nPromotion of cardiac transplant and mechanical circulatory assist-related research (in both\nde novo\nand long term patients).\nAttention to national issues in cardiac transplantation (e.g. cardiac donor management/organ allocation/listing criteria/organ sharing) and mechanical circulatory support, including the setting of guidelines, standard protocols, and the promotion of formal policies.\nAdvocacy for patients who require or have undergone cardiac transplantation and/or mechanical circulatory support devices.\nDevelopment and support of a national cardiac transplant and mechanical circulatory assist device database.\nEducation (promoting professional development including fellowship programs/guest speakers/educational programs)\nContact Us\nCanadian Cardiac Transplant Network\n150 Elgin Street, Suite 1000\nOttawa, ON K2P 1L4\n343-655-1932\ncctn@ccs.ca\nPartnerships\nCCS Affiliate Societies / One Heart Team\nCanadian Adult Congenital Heart Network (CACHnet)\nCanadian Association of Interventional Cardiology (CAIC)\nCanadian Cardiac Oncology Network (CCON)\nCanadian Cardiac Transplant Network (CCTN)\nCanadian Cardiovascular Critical Care Society (CANCARE)\nCanadian Cardiovascular Pharmacists Network (CCPN)\nCanadian Heart Failure Society (CHFS)\nCanadian Heart Rhythm Society (CHRS)\nCanadian Pediatric Cardiology Association (CPCA)\nCanadian Society of Cardiac Surgeons (CSCS)\nCanadian Society of Cardiovascular MRI (CSCMRI)\nCanadian Society of Cardiovascular Nuclear and CT Imaging (CNCT)\nCanadian Society of Echocardiography (CSE)\nCanadian Society of Vascular Medicine (CSVM)\nCanadian Alliance of Cardiovascular Centres\nAbout the CACC\nGovernance\nMembers\nWorking Groups\nPrincipal Partners\nOpportunities\nOther Partnerships",
         "main#main-content",
         "ok",
         "ccs",
         "2025-07-29T20:26:05"
        ],
        [
         "19",
         "https://ccs.ca/canadian-cardiovascular-congress-congres-canadien-sur-la-sante-cardiovasculaire/",
         "This year, the Canadian Cardiovascular Congress will be taking place as part of\nVascular 2023\n, an in-person event designed to connect our broad vascular community, under one roof.\nJoin us for Vascular 2023 from\nOctober 25 to 29\nat the\nPalais des congrès de Montréal\nwith host organizations the Canadian Cardiovascular Society, Canadian Society of Endocrinology and Metabolism, Canadian Venous Thromboembolism Research Network (CanVECTOR), Diabète Quebec, Diabetes Canada and Thrombosis Canada.\nThis five-day event is an opportunity to address challenges in the treatment and care of vascular-related diseases that affect millions of Canadians annually. Together, we will promote the many benefits of a truly connected Canadian vascular community.\nCette année, le Congrès canadien sur la santé cardiovasculaire aura lieu dans le cadre de\nVasculaire 2023\n, un événement en personne conçu pour relier notre vaste communauté vasculaire sous un même toit.\nRejoignez-nous pour Vasculaire 2023 du\n25 au 29 octobre\nau\nPalais des congrès de Montréal\navec les organismes hôtes : Société cardiovasculaire du Canada, Société canadienne d’endocrinologie et de métabolisme, Réseau canadien de recherche clinique sur la thromboembolie veineuse (CanVECTOR), Diabète Québec,  Diabète Canada et Thrombose Canada.\nCet événement de cinq jours est l’occasion de relever les défis liés au traitement et aux soins des maladies vasculaires qui touchent des millions de Canadiens chaque année. Ensemble, nous ferons la promotion des nombreux avantages d’une communauté vasculaire canadienne véritablement connectée.\nVascular 2023 | Vasculaire 2023\nLooking for the 2022 Canadian Cardiovascular Congress site? Vous cherchez le site du Congrès canadien sur la santé cardiovasculaire 2022 ?\nCCC 2022 | CCSC 2022",
         "main#main-content",
         "ok",
         "ccs",
         "2025-07-29T20:26:05"
        ],
        [
         "20",
         "https://ccs.ca/canadian-cardiovascular-society-academy/",
         "Home\nCCS Academy\nCanadian Cardiovascular Society Academy\nCanadian Cardiovascular Society Academy\nThe CCSA is a charitable organization that was created in 2000 by the Canadian Cardiovascular Society (CCS) to complement and support its activities.\nThe CCSA aims to\nsupport education, research, scholarships, and bursaries\nfor medical students and future cardiovascular specialists. It also provides programs and services for current cardiovascular trainees, from the start of their specialized training through their first seven years of practice. By focusing on medical students, trainees, and scientists in training, the CCSA  helps ensure a strong future for the cardiovascular field.\nShape the future of cardiovascular care!\nThe CCSA programs described below are only possible thanks to generous member donations that sustain and expand initiatives directly benefiting the next generation of cardiovascular specialists.\nA Bit of History\nIn the early 2000s, the CCS Trainee Committee was tasked to explore ways in which the Canadian Cardiovascular Society (CCS) could better support its trainee members through tailored programs and services.\nThrough consultation, trainees identified several key areas where additional support would be highly valuable, including exam preparation, career development, job opportunities, and networking.\nCCSA Programs\nOver the years, several initiatives have been developed in response to trainee and early career members’ needs, and the CCSA remains committed to continually exploring new opportunities to support them.\n2025\nAdult Cardiology Bootcamp for 1st year residents\n(pilot started under CCS in 2020, became national in 2023)\n2024\nEarly Career Breakfast at CCC\n2020\nTrainee Virtual Networking Events\n2019\nThe Future Leaders Program\n– aimed at developing the leadership skills of an elite group of early-career members of CCS. It has now been replaced by CCC programming for all Early Career members.\n2017\nTrainee Program at CCC\n— a 2.5-day program for trainees by trainees during the Canadian Cardiovascular Congress\n2008\nCardiac Surgery Trainee Review Program (CS TRP)\n2007\nPediatric Cardiology Trainee Review Program (PC TRP)\n2006\nAdult Cardiology Trainee Review Program (AC TRP)\n2002\nHave a Heart Bursary Program\n(HHB)\n2001\nTrainee Networking Luncheon at CCC\nHighlights from the last two decades\nOver 1700 trainees benefited from attending a Trainee Review Program (TRP) to prepare for writing the Royal College Exam.\n364 students have attended CCC as\nHave a Heart Bursary\nrecipients.\n24 trainees have attended CCC as\nDr. Charles Kerr Award\nrecipients.\n3 full national cohorts (over 70 1st year adult cardiology residents) have participated in the annual Adult Cardiology 1st year Bootcamp.\nFor Information Contact:\n150 Elgin Street, Suite 1000\nOttawa, ON K2P 1L4\n1-877-569-3407 Ext. 402\nEmail:\nccsa@ccs.ca\nCCS Academy\nCanadian Cardiovascular Society Academy\nSupport the CCSA\nOur Donors\nHave a Heart Bursary Program\nDr. Charles Kerr Award\nCCSA Annual Reports",
         "main#main-content",
         "ok",
         "ccs",
         "2025-07-29T20:26:05"
        ],
        [
         "21",
         "https://ccs.ca/canadian-cardiovascular-congress-congres-canadien-sur-la-sante-cardiovasculaire/",
         "This year, the Canadian Cardiovascular Congress will be taking place as part of\nVascular 2023\n, an in-person event designed to connect our broad vascular community, under one roof.\nJoin us for Vascular 2023 from\nOctober 25 to 29\nat the\nPalais des congrès de Montréal\nwith host organizations the Canadian Cardiovascular Society, Canadian Society of Endocrinology and Metabolism, Canadian Venous Thromboembolism Research Network (CanVECTOR), Diabète Quebec, Diabetes Canada and Thrombosis Canada.\nThis five-day event is an opportunity to address challenges in the treatment and care of vascular-related diseases that affect millions of Canadians annually. Together, we will promote the many benefits of a truly connected Canadian vascular community.\nCette année, le Congrès canadien sur la santé cardiovasculaire aura lieu dans le cadre de\nVasculaire 2023\n, un événement en personne conçu pour relier notre vaste communauté vasculaire sous un même toit.\nRejoignez-nous pour Vasculaire 2023 du\n25 au 29 octobre\nau\nPalais des congrès de Montréal\navec les organismes hôtes : Société cardiovasculaire du Canada, Société canadienne d’endocrinologie et de métabolisme, Réseau canadien de recherche clinique sur la thromboembolie veineuse (CanVECTOR), Diabète Québec,  Diabète Canada et Thrombose Canada.\nCet événement de cinq jours est l’occasion de relever les défis liés au traitement et aux soins des maladies vasculaires qui touchent des millions de Canadiens chaque année. Ensemble, nous ferons la promotion des nombreux avantages d’une communauté vasculaire canadienne véritablement connectée.\nVascular 2023 | Vasculaire 2023\nLooking for the 2022 Canadian Cardiovascular Congress site? Vous cherchez le site du Congrès canadien sur la santé cardiovasculaire 2022 ?\nCCC 2022 | CCSC 2022",
         "main#main-content",
         "ok",
         "ccs",
         "2025-07-29T20:26:05"
        ],
        [
         "22",
         "https://ccs.ca/about-us/",
         "Home\nAbout Us\nAbout Us\nIn 1947, it began with three doctors who pondered the idea of creating a group of specialized colleagues who could collaborate on research, share information, and learn from each other.\nToday, the Canadian Cardiovascular Society™ is over 2,300 members strong. We are known nationally and internationally by cardiovascular healthcare professionals for major contributions such as the annual Canadian Cardiovascular Congress (CCC), the CCS Angina classification system, the pan-Canadian Access to Care Benchmarks for the entire continuum of cardiovascular care, and the development of Canadian recommendations for the diagnosis and treatment of\nheart failure\n– just to name a few.\nAbout Us\nCCS Code of Conduct\nMission and Vision\nAnnual Reports\nStrategic Plan\nCCS's 75th Anniversary\nJoin Our Team\nBoard of Directors\nPresident’s Page\nPast Presidents\nCommittees\nCCS Initiatives\nMYCOVACC\nCCS Classification of Acute Myocardial Infarction (CCS-AMI)\nAwards\nCCS Recognition Awards\nCCS Research Fellowships & Awards\nCCS Affiliate Awards",
         "main#main-content",
         "ok",
         "ccs",
         "2025-07-29T20:26:05"
        ],
        [
         "23",
         "https://ccs.ca/about-us/",
         "Home\nAbout Us\nAbout Us\nIn 1947, it began with three doctors who pondered the idea of creating a group of specialized colleagues who could collaborate on research, share information, and learn from each other.\nToday, the Canadian Cardiovascular Society™ is over 2,300 members strong. We are known nationally and internationally by cardiovascular healthcare professionals for major contributions such as the annual Canadian Cardiovascular Congress (CCC), the CCS Angina classification system, the pan-Canadian Access to Care Benchmarks for the entire continuum of cardiovascular care, and the development of Canadian recommendations for the diagnosis and treatment of\nheart failure\n– just to name a few.\nAbout Us\nCCS Code of Conduct\nMission and Vision\nAnnual Reports\nStrategic Plan\nCCS's 75th Anniversary\nJoin Our Team\nBoard of Directors\nPresident’s Page\nPast Presidents\nCommittees\nCCS Initiatives\nMYCOVACC\nCCS Classification of Acute Myocardial Infarction (CCS-AMI)\nAwards\nCCS Recognition Awards\nCCS Research Fellowships & Awards\nCCS Affiliate Awards",
         "main#main-content",
         "ok",
         "ccs",
         "2025-07-29T20:26:05"
        ],
        [
         "24",
         "https://ccs.ca/resources/",
         "Home\nResources\nResources",
         "main#main-content",
         "ok",
         "ccs",
         "2025-07-29T20:26:05"
        ],
        [
         "25",
         "https://ccs.ca/resources/",
         "Home\nResources\nResources",
         "main#main-content",
         "ok",
         "ccs",
         "2025-07-29T20:26:05"
        ],
        [
         "26",
         "https://ccs.ca/bursaries-grants-and-awards/",
         "Home\nTrainees/Early Career\nBursaries, Grants and Awards\nBursaries, Grants and Awards\nHere is a list of great resources if you are looking for bursaries, grants, scholarships or awards in medicine in Canada:\nCHRS Trainee Travel Grant\nDescription: The Canadian Heart Rhythm Society (CHRS) offers support to trainees travelling to conferences to present their research. These grants are reserved for CHRS members presenting their research in the electrophysiology field at a heart rhythm/arrhythmia related meeting.\nDr. Charles Kerr Award\n– Canadian Cardiovasular Society\nDescription: This new annual CCSA award seeks not only to honor the memory and actions of Dr. Kerr as a humanitarian but to acknowledge those residents who personify his ideals and embody the same commitment to helping others.\nHave a Heart Bursary Program\n– Canadian Cardiovascular Society\nDescription: The ‘Have a Heart’ Bursary program is a travel bursary program designed to introduce promising young Canadian medical students, post-graduate trainees, and basic scientists-in-training to the cardiovascular field in Canada.\nCCS Awards\nDescription: Each year, the Canadian Cardiovascular Society (CCS) recognizes the outstanding achievements of individual Canadians and Canadian organizations that contribute to cardiovascular health and care. CCS Awards are granted for excellence in research, teaching, exemplary care, prevention of cardiovascular diseases and overall career contribution.\nCanadian Cardiovascular Society – Bayer Resident Vascular Award\nDescription: This Award is intended for Canadian clinical trainees (PGY 4-6) for a research project on any topic related to thrombosis, anticoagulation, stroke, or\natrial fibrillation\n. Applicants must be residents enrolled in a Canadian clinical training program (PGY 4-6) for, but not limited to, adult or pediatric cardiology, cardiac or vascular surgery.\nMedicine Scholarships in Canada\nDescription: An extensive list of medicine scholarships awarded in Canada for higher education students. Includes scholarships, awards, prizes and bursaries in the field of Medicine.\nRoyal College Funding Opportunities\nDescription: An extensive list of medical education-related grants, awards, and Fellowships. Content is reviewed and updated bi-weekly (or when applicable).\nCanadian Institutes of Health Research\nDescription: The Canadian Institutes of Health Research (CIHR) is Canada’s federal funding agency for health research.\nFonds de recherche Santé Québec\nDescription: The FRSQ allocates $100 million annually in awards and grants for public-sector research into human health carried out today in universities and hospital-based research centres.\nHeart and Stroke research programs\nDescription: The Heart and Stroke Foundation supports the development of researchers across the research career spectrum from doctoral students to career investigators.\nVanier Canada Graduate Scholarships\nDescription: The Vanier Canada Graduate Scholarships (Vanier CGS) program attracts and retains world-class doctoral students and helps establish Canada as a global centre of excellence in research and higher learning.\nCMA Special Awards\nDescription: CMA awards in a broad range of fields.\nBourses de recherche de la SQIC\nDescription: Bursaries for research projects in the field of heart failure.\nMackenzie King Scholarships\nDescription: The Open Scholarship is available to graduates of Canadian universities who pursue graduate study in any discipline, in Canada or elsewhere. One Open Scholarship is awarded each year. The value has recently been about $8500 but it is subject to change.\nCARMS Sandra Banner Student Award for Leadership\nDescription: The purpose of these annual awards is to encourage the development of future leaders in medicine, through public recognition and financial support of one undergraduate and one postgraduate medical trainee who has demonstrated interest in/aptitude for leadership.\nTrainees/Early Career\nAbout Members in Training\nAbout Early Career Members\nTrainee Networking Events\nFirst Year Residents’ Bootcamp\nTrainee Review Programs (TRPs)\nBursaries, Grants and Awards\nFellowship Database",
         "main#main-content",
         "ok",
         "ccs",
         "2025-07-29T20:26:05"
        ],
        [
         "27",
         "https://ccs.ca/terms-of-use/",
         "Home\nTerms of Use\nTerms of Use",
         "main#main-content",
         "ok",
         "ccs",
         "2025-07-29T20:26:05"
        ],
        [
         "28",
         "https://ccs.ca/sitemap/",
         "Home\nSitemap\nSitemap",
         "main#main-content",
         "ok",
         "ccs",
         "2025-07-29T20:26:05"
        ],
        [
         "29",
         "https://ccs.ca/terms-of-use/",
         "Home\nTerms of Use\nTerms of Use",
         "main#main-content",
         "ok",
         "ccs",
         "2025-07-29T20:26:05"
        ],
        [
         "30",
         "https://ccs.ca/sitemap/",
         "Home\nSitemap\nSitemap",
         "main#main-content",
         "ok",
         "ccs",
         "2025-07-29T20:26:05"
        ],
        [
         "31",
         "https://ccs.ca/climate-change/toolkit/",
         "Home\nAdvocacy\nPlanetary Health\nAir Quality Advisor\nAir Quality Advisor\n1\n2\n3\n4\n5\n6\n7\n8\n9\n10\n+\n(1-3)\n(4-6)\n(7-10)",
         "main#main-content",
         "ok",
         "ccs",
         "2025-07-29T20:26:05"
        ],
        [
         "32",
         "https://ccs.ca/climate-change/toolkit/",
         "Home\nAdvocacy\nPlanetary Health\nAir Quality Advisor\nAir Quality Advisor\n1\n2\n3\n4\n5\n6\n7\n8\n9\n10\n+\n(1-3)\n(4-6)\n(7-10)",
         "main#main-content",
         "ok",
         "ccs",
         "2025-07-29T20:26:05"
        ],
        [
         "33",
         "https://ccs.ca/about-the-canadian-journal-of-cardiology/",
         "Home\nCanadian Journal of Cardiology\nCanadian Journal of Cardiology\nThe\nCanadian Journal of Cardiology\n(CJC\n) is an international, peer-reviewed journal that disseminates new knowledge in\ncardiology\nand\ncardiovascular science.\nIt is the preferred peer-reviewed publication for\nCanadian cardiovascular medicine,\nand it\npublishes original reports of clinical and basic research relevant to cardiovascular medicine, as well as editorials, review articles, and case reports. The\nCJC\nis an official journal of the Canadian Cardiovascular Society and a companion title to\nCJC Open\nand\nCJC Pediatric and Congenital Heart Disease\n.\nAccessing CJC articles published after 2006\nMost CCS members are entitled to a free electronic subscription to the\nCJC\n. This includes access to full-text articles published from 2006 to present on\nwww.onlinecjc.ca\n. Activate your free CJC Online subscription by logging into your\nCCS account\nand updating your ‘Professional Profile’.\nAccessing CJC articles published before 2006\nPlease email\ncjc@ccs.ca\nwith the article title, volume number, and page numbers.\nAccessing printed copies of the CJC\nRegular members have the exclusive option to opt-in to receive printed copies of the\nCJC\nfor a nominal cost. Please contact\nmembership@ccs.ca\nfor details.\n2024 Impact Factor: 5.8\nRank: 41 of 230 global cardiovascular journals\nEditor-in-Chief:\nDr. Stanley Nattel\nCJC Open\nCJC Open\nis an international, peer-reviewed, open-access journal that disseminates new knowledge in\ncardiology\nand\ncardiovascular science.\nIt is the preferred open-access peer-reviewed publication for\nCanadian cardiovascular medicine,\nand it\npublishes original reports of clinical and basic research relevant to cardiovascular medicine, as well as editorials, review articles, and case reports. It offers a unique category for case-based review articles and has an interest in sex and gender-based studies.\nCJC Open\nis an official journal of the Canadian Cardiovascular Society and a companion title to the\nCanadian Journal of Cardiology\nand\nCJC Pediatric and Congenital Heart Disease\n.\n2024 Impact Factor: 2.5\nRank: 129 of 230 global cardiovascular journals\nEditor-in-Chief:\nDr. Michelle Graham\nCJC\nPediatric & Congenital Heart Disease\nCJC Pediatric and Congenital Heart Disease\nis an international, peer-reviewed, open-access journal that disseminates new knowledge in\npediatric and congenital cardiology and cardiovascular science.\nIt serves as the preferred open-access peer-reviewed publication for\nCanadian pediatric and congenial cardiovascular medicine.\nCJC Pediatric and Congenital Heart Disease\npublishes original reports of clinical and basic research, as well as editorials, review articles, and case reports. It is an official journal of the Canadian Cardiovascular Society and a companion title to the\nCanadian Journal of Cardiology\nand\nCJC Open\n.\nEditor-in-Chief:\nDr. Kevin Harris\nHow to claim your\nCJC\nsubscription\nRegister\nGo to\nwww.onlinecjc.ca\nClick\nRegister\nin the banner at the top right of the screen\nIf you have previously registered, click\nSign In\nIf you are not registered, complete the account registration form\nClaim Online Access\nClick\nClaim\nin the banner on the top right of the screen\nCheck the box “I receive my subscription through a society membership”\nEnter your CJC Subscription Number* and Last Name\nClick\nActivate Claim\n* Your subscription reference number will be emailed to you from Elsevier. If you are unable to locate this number, please contact\nmembership@ccs.ca\n.",
         "main#main-content",
         "ok",
         "ccs",
         "2025-07-29T20:26:05"
        ],
        [
         "34",
         "https://ccs.ca/ccs-research-awards/ccs-bms-hypertrophic-cardiomyopathy-hcm-research-award/",
         "Home\nAbout\nAwards\nCCS Research Fellowships & Awards\nCCS-BMS Hypertrophic Cardiomyopathy (HCM) Research Award\nCCS-BMS Hypertrophic Cardiomyopathy (HCM) Research Award\nThe Canadian Cardiovascular Society and Bristol Myers Squibb (BMS) are proud to support the CCS-BMS Hypertrophic Cardiomyopathy (HCM) Research Award. The purpose of this award is to foster growth of peer-reviewed Canadian research in the area of HCM, with a focus on HCM diagnosis, progression monitoring, epidemiology and / or prevalence.\nTwo (2) awards of up to $65,000 each will be awarded based on an independent peer review process. A total of $130,000 in funding is available across the two awards. Award funds will be administered by the Institution of the awardee’s affiliated university or equivalent.\nThis research award has been made possible through a grant from Bristol Myers Squibb Canada Co. (“BMS”).  BMS will not control, influence or participate in the award program whatsoever.\nStart your Submission\nAward Handbook\nPast Award Recipients\nEligibility\nBe a CCS Member*. For more information about CCS Membership, visit the CCS website:\nhttps://ccs.ca/en/membership\n.\n*You must be a CCS member to accept funding, but you can apply without being a member!\nApplicants must be a Canadian Citizen or Permanent Resident of Canada.\nThe principal investigator must be an early career independent researcher (within 5 years of their first faculty appointment at a Canadian academic institution). Co-applicants of different career stages can be included. Inclusion of at least one mid-career or senior investigator serving as mentor is strongly encouraged.\nApplicants can be principal investigators on only one application.\nAward funds are solely intended for research performed in Canada.\nThe award and funds are intended for original research that is either clinical or translational with expected impact of HCM patient care. Proposal should not request supplement funding for an ongoing project.\nIf the submission refers to a multicenter clinical trial, the applicant must specify their specific role in the research study.\nIf the application is for a sub-study of an ongoing project or trial, the applicant must specify their role and explain how the sub-study is distinct from the main study.\nFunded research must be completed within 48 months from the start of funding.\nResearch status report will be requested and should be submitted on October 1st of the ensuing year(s) that the project is running.\nEligible Areas of Research\nEligible research includes all areas of HCM, with preferential focus on HCM diagnosis, progression monitoring, epidemiology and / or prevalence. Should the study be clinical in nature, please outline how you will emphasize equity, diversity and inclusion in patient populations.\nThe Peer Review Process and Evaluation Committee\nAll applications will be pre-screened for eligibility. Applications that are late, incorrectly formatted, incomplete and/or do not meet the basic eligibility criteria will not be considered for review.\nPeer review of all eligible applications will be conducted by a scientific review committee comprised of CCS members. Reviewers are selected for their subject matter expertise. All eligible proposals will be reviewed by at least two members of the peer review committee.\nIf you have any questions or require support preparing or submitting your application, please email\nresearchawards@ccs.ca\n.\nSupported by:\nThe Canadian Cardiovascular Society and BMS are proud to support the CCS-BMS HCM Research Award. With this award, we hope to further research on hypertrophic cardiomyopathy to improve the lives of Canadians who are affected by this condition, and their families.\nAbout\nAbout Us\nCCS Code of Conduct\nMission and Vision\nAnnual Reports\nStrategic Plan\nCCS's 75th Anniversary\nJoin Our Team\nBoard of Directors\nPresident’s Page\nPast Presidents\nCommittees\nCCS Initiatives\nMYCOVACC\nCCS Classification of Acute Myocardial Infarction (CCS-AMI)\nAwards\nCCS Recognition Awards\nCCS Research Fellowships & Awards\nCCS Affiliate Awards",
         "main#main-content",
         "ok",
         "ccs",
         "2025-07-29T20:26:05"
        ],
        [
         "35",
         "https://ccs.ca/canadian-cardiovascular-congress/",
         "Home\nEducation\nCanadian Cardiovascular Congress\nCanadian Cardiovascular Congress\nOctober 23–26, 2025 | Centre des congrès de Québec | Quebec City, QC\nThe annual Canadian Cardiovascular Congress (CCC) meeting is hosted by CCS and includes participation of more than a dozen health organizations.\nThe CCC is the largest gathering of cardiovascular and other health professionals in Canada. This event brings together the individuals who work across the spectrum of cardiovascular health – from research to patient care – and stimulates interaction within the cardiovascular community. It is a forum to showcase the best research and to promote learning, through scientific sessions, interactive workshops, late-breaking clinical trials, and lively debates.\nRegistration Now Open!\nRegister early and save! Early bird rates are available through July 23, 2025.\nClick Here to Register\nVisit\ncardiocongress.ca\nto register, view the scientific program, and book accommodations.\nCCC 2025 features:\nAccredited scientific sessions, debates, and late-breaking clinical trials\nPractical workshops and hands-on training\nDedicated programming for trainees and early-career professionals\nOral and poster presentations\nNetworking events, awards, and more!\nExplore full event details at\ncardiocongress.ca\nEducation\nAbout Continuing Professional Development\nAccreditation Information\nResources and Policies\nStandards for Quality CPD\nCardioCampus Programs and Events\nUpcoming Events\nRecorded Events\nSection 3 Activities\nCanadian Perspectives\nPerspectives in Clinical Cardiology\nHypertrophic Cardiomyopathy Learning Series\nPulmonary Hypertension Education Series\nGLP1-RA Learning Series\nHeart Valve Disease Learning Series\nAmyloid Education Series\nCOVID-19 Resources\nCanadian Cardiovascular Congress\nQuebec City 2025\nVancouver 2024\nVascular 2023\nOttawa 2022\nCardio Connector Podcast",
         "main#main-content",
         "ok",
         "ccs",
         "2025-07-29T20:26:05"
        ],
        [
         "36",
         "https://ccs.ca/ccs-research-awards/ccs-pfizer-heart-failure-disparities-in-indigenous-communities-research-fellowship-award/",
         "Home\nAbout\nAwards\nCCS Research Fellowships & Awards\nCCS/Pfizer/CHF Alliance Fellowship Award in FNIM Communities Experiencing Heart Function Inequities\nCCS/Pfizer/CHF Alliance Fellowship Award in FNIM Communities Experiencing Heart Function Inequities\nThe Canadian Cardiovascular Society, Pfizer, and the Canadian Heart Function Alliance (CHF Alliance) are proud to support the CCS/Pfizer/Canadian Heart Function Alliance Research Fellowship Award in First Nations, Inuit and Métis (FNIM) Communities Experiencing Heart Function (HF) Inequities. The purpose of this award is to support growth and excellence in research focused on better understanding and addressing the heart function inequities experienced by First Nations, Inuit and Métis, in both health generally and HF care more specifically. This award is focused on successful early career Canadian researchers familiar with diagnosing and caring for FNIM people with HF.\nApplication Deadline:\nClosed for 2024\nAward Handbook\nPast Award Recipients\nEligibility\nBe a CCS Member*. For more information about CCS Membership, visit the CCS website:\nhttps://ccs.ca/en/membership\n.\n*You must be a CCS member to accept funding, but you can apply without being a member!\nApplicants must be a Canadian Citizen or Permanent Resident of Canada at the time funding is received.\nPreference for applicants who agree to have their projects become part of the CHF Alliance structure and to present their protocols, project updates, results, and knowledge translation plans at internal CHF Alliance meetings. Visit the CHF Alliance website for more information about the structure:\nhttps://www.chfalliance.ca/chf-alliance\n.\nThe principal investigator must have completed an MD degree (or equivalent) and have obtained a fellowship from the Royal College of Physicians & Surgeons of Canada (or equivalent from a foreign country) or from the Canadian College of Family Physicians; or have completed a PharmD; or have completed a PhD (post-doc).\nPreference for principle investigators with a proven track record in FNMI health research, with demonstrated engagement and commitment to the FNIM community. For example:\nTCPS 2 certificate\nTraining in FNIM people and their health (certificate, transcript or a few paragraphs on key learnings)\nEvidence of engagement with FNIM people (ie. letter of support, engagement plan, etc.)\nApplicants must provide a letter of acceptance to a faculty or clinical position at a Canadian institution.\nApplicants must demonstrate support by the university or institution at which the applicant will conduct the proposed research program. Requirement for a statement completed by the Dean and Department Head (or institutional equivalents) demonstrating commitment of the university or institution to provide the applicant appropriate academic rank, time allocated to the proposed research program, and to provide adequate space and facilities for the investigator’s research, as well as a commitment to developing the applicant’s research, technical and professional skills and networks over the training period by providing career planning, skills development and networking opportunities to prepare the trainee for an impactful career.\nPreference for applicants from institutions with a demonstrable commitment to reconciliation that might support the Fellow in conducting their proposed research (for example, institutions that have offices of Indigenous engagement, agreements in place with Indigenous communities, or Elders and Knowledge Holders on staff that could support the Fellow).\nApplicants can be principal investigators on only one application.\nAward funds are solely intended for research performed in Canada.\nThis salary award is intended for a Fellow to perform original research that is either clinical or translational with expected impact on patient care. Proposal should not request supplemental funding for a project that has extramural funding.\nIf the submission refers to a multicenter clinical trial, the applicant must indicate their specific role in the research study.\nIf the application is for a sub-study of an ongoing project or trial, the applicant must specify their role and explain how the sub-study is distinct from the main study.\nIf funded, proposed research must be completed within 12 months (with consideration for projects up to 24 months) from the start of funding.\nResearch status reports will be required on October 1st of every year that the project is running.\nEligible Areas of Research\nAward funds are solely intended for Canadian research purposes. eligible research activities must involve clinical outcomes research or clinical research in an area related to prediction, prevention, diagnosis and management of HF in the Canadian First Nations, Inuit and Métis (FNIM) communities (spanning the lifecycle of patients from young to elderly, from rural to urban, and across geographic and socio-economic barriers) with strong preference for:\nMulti-institutional collaboration, particularly with sites involved with the CHF Alliance\nResearch proposals with demonstrable ability to meet objectives within the 12-month term of the fellowship\nThe Peer Review Process and Evaluation Committee\nAll applications will be pre-screened for eligibility. Applications that are late, incorrectly formatted, incomplete and/or do not meet the basic eligibility criteria will not be considered for review.\nPeer review of all eligible applications will be conducted by a scientific review committee comprised of CCS members. Reviewers are selected for their subject matter expertise. All eligible proposals will be reviewed by at least two members of the peer review committee.\nIf you have any questions or require support preparing or submitting your application, please email\nresearchawards@ccs.ca\n.\nSupported by:\nAbout\nAbout Us\nCCS Code of Conduct\nMission and Vision\nAnnual Reports\nStrategic Plan\nCCS's 75th Anniversary\nJoin Our Team\nBoard of Directors\nPresident’s Page\nPast Presidents\nCommittees\nCCS Initiatives\nMYCOVACC\nCCS Classification of Acute Myocardial Infarction (CCS-AMI)\nAwards\nCCS Recognition Awards\nCCS Research Fellowships & Awards\nCCS Affiliate Awards",
         "main#main-content",
         "ok",
         "ccs",
         "2025-07-29T20:26:05"
        ],
        [
         "37",
         "https://ccs.ca/latest-news/",
         "Latest News\nHome\nLatest News\nMembership news\nCalling All CCS Members! Volunteer on a CCS Committee\nMarch 4, 2025\nThe CCS is comprised of members with a vast range of skills, experience, interests, and diverse...\nMembership\nSearch and Filter News\nSearch\nNews Type\nAnnouncement\nCCS News\nCCS Statement\nClinical Practice Update\nFeature\nGuidelines\nMedia Advisory\nMembership news\nNews release\nProfile\nRecorded Event\nNews Topic\n75th anniversary\nAcute Myocardial Infarction\nAffiliate Awards\nAminophylline\nAmyloidosis\nAntiplatelet Therapy\nAortic Team Model\nASCVD\nAtrial Fibrillation\nCACC\nCanadian Cardiovascular Congress\nCardiometabolic\nCardiorenal\nCardiovascular Community News\nCCC\nCCS Academy\nCCS Leadership\nCCS Members\nCCS News\nCCS Recognition Awards\nCCS Statement\nCCSA\nCholesterol\nCIHR-ICRH\nCJC\nClinical Practice Update\nClinical practice updates\nCongress\nCOVID-19\nCPD\nDipyridamole\nDyslipidemia\nEarly Career\nEDI\nEquity Diversity Inclusion\nGiving Tuesday\nGuidelines\nHCM\nHealth & wellness\nHealth policy\nHeart failure\nHeart Month\nHeart valve disease\nHFAW\niCCS\nKnowledge translation\nKT Tools\nMembers in training\nMembership\nMINOCA\nMYCOVACC\nMyocarditis\nNational Day for Truth and Reconciliation\nNational Indigenous History Month\nNetworking\nOne Heart Team\nPAD\nPhenotypes\nPocket Guides\nResearch Fellowships & Awards\nShortage\nTariffs\ntarifs\nTrainees\nVascular 2023\nWomen in CV medicine and science\nClear Filters\nApply Filters\nShowing 1-10 of 125 Results\nSort By:\nNewest First\nOldest First\nMembership news\nCalling All CCS Members! Volunteer on a CCS Committee\nMarch 4, 2025\nThe CCS is comprised of members with a vast range of skills, experience, interests, and diverse...\nMembership\nProfile\nHeart Month Profile: Dr. Sean Virani\nFebruary 12, 2025\nWhen thinking about Dr. Virani, passion is the word that comes to mind. He first became involved...\nHeart Month\nMembership\nProfile\nHeart Month Profile: Dr. Laurie-Anne Boivin-Proulx\nFebruary 12, 2025\nDr. Boivin-Proulx’s journey with the CCS began as a PGY1 in Internal Medicine when she joined the...\nHeart Month\nMembership\nProfile\nHeart Month Profile: Dr. Vincent Chan\nFebruary 10, 2025\nDr. Vincent Chan is an accomplished academic surgeon and a passionate advocate for improving...\nHeart Month\nMembership\nProfile\nHeart Month Profile: Dr. Jessica Forcillo\nFebruary 10, 2025\nDr. Jessica Forcillo is a distinguished cardiac surgeon who has been deeply involved with the CCS...\nHeart Month\nMembership\nProfile\nHeart Month Profile: Dr. John Sapp\nFebruary 7, 2025\nDr. John Sapp has been a dedicated CCS member since his residency in cardiology during the late...\nHeart Month\nMembership\nAnnouncement\nThe CCS Celebrates Recent Passing of The Heart Valve Disease Awareness Act (Bill 66)\nFebruary 6, 2025\nThe CCS is proud to highlight the Legislative Assembly of Ontario’s recent passing of The Heart...\nCCS News\nCCS Statement\nCanadian Cardiovascular Society Statement on Potential US Tariffs\nFebruary 4, 2025\nLike all businesses in Canada, the Canadian Cardiovascular Society (CCS) is carefully assessing the...\nTariffs\nCCS News, News release\nCanadian Cardiovascular Society Secures $1.6M for Fourth Year of Major National Surveillance Study Into COVID-19 and mRNA Vaccines\nJanuary 21, 2025\nFor immediate release: January 21, 2024, 12:01 am ET\nFunding will support continued patient...\nMYCOVACC\nFeature\nEmpowering Those at Greatest Risk of Heart Failure to Pursue Testing and Treatment\nJanuary 15, 2025\nToday, a 75-year-old male might present in my office with fatigue, shortness of breath with mild...\nHeart failure\npage\n1\npage\n2\npage\n3\n…\npage\n13\nNext",
         "main#main-content",
         "ok",
         "ccs",
         "2025-07-29T20:26:05"
        ],
        [
         "38",
         "https://ccs.ca/latest-news/",
         "Latest News\nHome\nLatest News\nMembership news\nCalling All CCS Members! Volunteer on a CCS Committee\nMarch 4, 2025\nThe CCS is comprised of members with a vast range of skills, experience, interests, and diverse...\nMembership\nSearch and Filter News\nSearch\nNews Type\nAnnouncement\nCCS News\nCCS Statement\nClinical Practice Update\nFeature\nGuidelines\nMedia Advisory\nMembership news\nNews release\nProfile\nRecorded Event\nNews Topic\n75th anniversary\nAcute Myocardial Infarction\nAffiliate Awards\nAminophylline\nAmyloidosis\nAntiplatelet Therapy\nAortic Team Model\nASCVD\nAtrial Fibrillation\nCACC\nCanadian Cardiovascular Congress\nCardiometabolic\nCardiorenal\nCardiovascular Community News\nCCC\nCCS Academy\nCCS Leadership\nCCS Members\nCCS News\nCCS Recognition Awards\nCCS Statement\nCCSA\nCholesterol\nCIHR-ICRH\nCJC\nClinical Practice Update\nClinical practice updates\nCongress\nCOVID-19\nCPD\nDipyridamole\nDyslipidemia\nEarly Career\nEDI\nEquity Diversity Inclusion\nGiving Tuesday\nGuidelines\nHCM\nHealth & wellness\nHealth policy\nHeart failure\nHeart Month\nHeart valve disease\nHFAW\niCCS\nKnowledge translation\nKT Tools\nMembers in training\nMembership\nMINOCA\nMYCOVACC\nMyocarditis\nNational Day for Truth and Reconciliation\nNational Indigenous History Month\nNetworking\nOne Heart Team\nPAD\nPhenotypes\nPocket Guides\nResearch Fellowships & Awards\nShortage\nTariffs\ntarifs\nTrainees\nVascular 2023\nWomen in CV medicine and science\nClear Filters\nApply Filters\nShowing 1-10 of 125 Results\nSort By:\nNewest First\nOldest First\nMembership news\nCalling All CCS Members! Volunteer on a CCS Committee\nMarch 4, 2025\nThe CCS is comprised of members with a vast range of skills, experience, interests, and diverse...\nMembership\nProfile\nHeart Month Profile: Dr. Sean Virani\nFebruary 12, 2025\nWhen thinking about Dr. Virani, passion is the word that comes to mind. He first became involved...\nHeart Month\nMembership\nProfile\nHeart Month Profile: Dr. Laurie-Anne Boivin-Proulx\nFebruary 12, 2025\nDr. Boivin-Proulx’s journey with the CCS began as a PGY1 in Internal Medicine when she joined the...\nHeart Month\nMembership\nProfile\nHeart Month Profile: Dr. Vincent Chan\nFebruary 10, 2025\nDr. Vincent Chan is an accomplished academic surgeon and a passionate advocate for improving...\nHeart Month\nMembership\nProfile\nHeart Month Profile: Dr. Jessica Forcillo\nFebruary 10, 2025\nDr. Jessica Forcillo is a distinguished cardiac surgeon who has been deeply involved with the CCS...\nHeart Month\nMembership\nProfile\nHeart Month Profile: Dr. John Sapp\nFebruary 7, 2025\nDr. John Sapp has been a dedicated CCS member since his residency in cardiology during the late...\nHeart Month\nMembership\nAnnouncement\nThe CCS Celebrates Recent Passing of The Heart Valve Disease Awareness Act (Bill 66)\nFebruary 6, 2025\nThe CCS is proud to highlight the Legislative Assembly of Ontario’s recent passing of The Heart...\nCCS News\nCCS Statement\nCanadian Cardiovascular Society Statement on Potential US Tariffs\nFebruary 4, 2025\nLike all businesses in Canada, the Canadian Cardiovascular Society (CCS) is carefully assessing the...\nTariffs\nCCS News, News release\nCanadian Cardiovascular Society Secures $1.6M for Fourth Year of Major National Surveillance Study Into COVID-19 and mRNA Vaccines\nJanuary 21, 2025\nFor immediate release: January 21, 2024, 12:01 am ET\nFunding will support continued patient...\nMYCOVACC\nFeature\nEmpowering Those at Greatest Risk of Heart Failure to Pursue Testing and Treatment\nJanuary 15, 2025\nToday, a 75-year-old male might present in my office with fatigue, shortness of breath with mild...\nHeart failure\npage\n1\npage\n2\npage\n3\n…\npage\n13\nNext",
         "main#main-content",
         "ok",
         "ccs",
         "2025-07-29T20:26:05"
        ],
        [
         "39",
         "https://ccs.ca/canadian-cardiovascular-pharmacists-network/",
         "Home\nPartnerships\nCCS Affiliate Societies / One Heart Team\nCanadian Cardiovascular Pharmacists Network\nCanadian Cardiovascular Pharmacists Network\nAbout CCPN\nGovernance\nEvents\nTools and Resources\nApp Privacy Policy\nAbout Us\nMission statement:\nPromoting excellence in cardiovascular care through education,\nclinical practice, and research.\nThe Canadian Cardiovascular Pharmacist Network is an independent\ngroup of Canadian pharmacists involved in cardiovascular practice\nand research.\nOur mission is to optimize the health outcomes of Canadians with or\nat risk of cardiovascular disease by promoting excellence in clinical\npractice and research. We also strive to enhance the knowledge and\nskills of pharmacists and their colleagues through the advancement\nof the pharmacotherapy of cardiovascular diseases\nCCPN is an affiliate society of the Canadian Cardiovascular Society.\nContact Us\nCanadian Cardiovascular Pharmacists Network\n150 Elgin Street, Suite 1000\nOttawa, ON K2P 1L4\n343-655-1932\nccpn@ccs.ca\nFollow us on\nFacebook\nSubscribe to our\nYouTube channel\nFollow us on X.\n@CCPNRx\nPartnerships\nCCS Affiliate Societies / One Heart Team\nCanadian Adult Congenital Heart Network (CACHnet)\nCanadian Association of Interventional Cardiology (CAIC)\nCanadian Cardiac Oncology Network (CCON)\nCanadian Cardiac Transplant Network (CCTN)\nCanadian Cardiovascular Critical Care Society (CANCARE)\nCanadian Cardiovascular Pharmacists Network (CCPN)\nCanadian Heart Failure Society (CHFS)\nCanadian Heart Rhythm Society (CHRS)\nCanadian Pediatric Cardiology Association (CPCA)\nCanadian Society of Cardiac Surgeons (CSCS)\nCanadian Society of Cardiovascular MRI (CSCMRI)\nCanadian Society of Cardiovascular Nuclear and CT Imaging (CNCT)\nCanadian Society of Echocardiography (CSE)\nCanadian Society of Vascular Medicine (CSVM)\nCanadian Alliance of Cardiovascular Centres\nAbout the CACC\nGovernance\nMembers\nWorking Groups\nPrincipal Partners\nOpportunities\nOther Partnerships",
         "main#main-content",
         "ok",
         "ccs",
         "2025-07-29T20:26:05"
        ],
        [
         "40",
         "https://ccs.ca/ccs-research-awards/ccs-novonordisk-cardiometabolic-research-award/",
         "Home\nAbout\nAwards\nCCS Research Fellowships & Awards\nCCS-Novo Nordisk Cardiometabolic Research Award\nCCS-Novo Nordisk Cardiometabolic Research Award\nThe Canadian Cardiovascular Society (CCS) and Novo Nordisk have collaboratively created an award, entitled “CCS-Novo Nordisk Cardiometabolic Research Award”.\nThis Award is intended for early career researchers (including PhDs and MDs) who are within five (5) years of their first faculty appointment at a Canadian academic institution, for a research project on any topic related to cardiometabolic disease.\nA single award of $35K will be awarded based on an independent peer review process. Funded research must be completed within 12 months from the start of funding.\nStart your Submission\nAward Handbook\nPast Award Recipients\nEligibility\nApplicants must be or become members of the Canadian Cardiovascular Society before accepting the award. For more information about CCS Membership, visit the\nCCS Membership Page\n.\n*You must be a CCS member to accept funding, but you can apply without being a member!\nThe principal investigator must be an early career researcher (ECR). An early career researcher (ECR) is a researcher within five years of the date of their first independent research-related appointment at an academic institution. Given that career progress for an ECR is particularly vulnerable to normal life circumstances, CCS will adjust the eligibility window, as per CIHR applications, as follows:\nEligible leaves (e.g., maternity, parental, medical, family medical, bereavement) will extend ECR status (i.e., will not be counted towards the maximum) and are credited as twice the amount of time taken.\nNo adjustments are provided for professional leaves (e.g., training, sabbatical, administrative). No adjustments are provided for time spent on non-research-related duties or for the pursuit of non-research-related career activities.\nApplicants must be a Canadian Citizen or Permanent Resident of Canada at the time of receiving funding.\nCo-applicants of different career stages can be included.\nApplicants can be principal investigators on only one application per cycle.\nAward funds are solely intended for research performed in Canada.\nThe award and funds are intended for original research and should not supplement funding for that already have extramural funding.\nIf the submission refers to a multicenter clinical trial, the applicant must specify their specific role in the research study.\nIf the application is for a sub-study of an ongoing project or trial, the applicant must specify their role and explain how the sub-study is distinct from the main study.\nFunded research must be completed within 48 months from the start of funding.\nThe Award\nOne (1) award is available in 2025.\nAward:\n$35,000\nFunds will be administered by the Cardiology Division of the awardee’s affiliated university or equivalent.\nThe Peer Review Process and Evaluation Committee\nAll applications will be pre-screened for eligibility. Applications that are late, incomplete and/or do not meet the basic eligibility criteria will not be considered for review. Peer review of all eligible applications will be conducted by a scientific review committee comprised of CCS members. All eligible proposals will be reviewed by at least two members of the peer review committee.\nIf you have any questions or require support preparing and submitting your application, please email\nresearchawards@ccs.ca\n.\nIf you have any questions or require support preparing or submitting your application, please email\nresearchawards@ccs.ca\n.\nSupported by:\nThe Canadian Cardiovascular Society and Novo Nordisk are proud to support the CCS-Novo Nordisk Cardiometabolic Research Award. With this award, we hope to further research on the link between cardiovascular disease in diabetes to improve thelives of Canadians who are affected by these conditions, and their families\nAbout\nAbout Us\nCCS Code of Conduct\nMission and Vision\nAnnual Reports\nStrategic Plan\nCCS's 75th Anniversary\nJoin Our Team\nBoard of Directors\nPresident’s Page\nPast Presidents\nCommittees\nCCS Initiatives\nMYCOVACC\nCCS Classification of Acute Myocardial Infarction (CCS-AMI)\nAwards\nCCS Recognition Awards\nCCS Research Fellowships & Awards\nCCS Affiliate Awards",
         "main#main-content",
         "ok",
         "ccs",
         "2025-07-29T20:26:05"
        ],
        [
         "41",
         "https://ccs.ca/ccpn-privacy-policy/",
         "Home\nCanadian Cardiovascular Pharmacists Network\nCanadian Cardiovascular Pharmacists Network\nAbout CCPN\nGovernance\nEvents\nTools and Resources\nApp Privacy Policy\nCCPN Privacy Policy\nCCPN is committed to maintaining your confidence and trust with respect to your privacy. Please read this privacy policy carefully to understand our practices about how we collect, use and share your information.\nThis CCPN Application Privacy Policy (“Privacy Policy”) explains the data CCPN may collect through this CCPN Application (or “App”).\nThis CCPN Application can be downloaded via Android’s Google Play or Apple’s App Store. Downloading, accessing, or otherwise using the App indicates that you have read the Privacy Policy for either the\nGoogle Play\nor\nApp Store\nand consent to its terms. Personal user information will not be collected by the App itself or by CCPN. If you do not consent to the terms of this Privacy Policy, do not proceed to download, access, or otherwise use the App.\nThis Privacy Policy may be updated from time to time. We will post a notice at the top of the page notifying users when it is updated or modified in a material way. If we are going to use your information in a manner different from what is stated at the time of collection, we will notify you, and you will have a choice as to whether or not we can use your information in such a way. By downloading, accessing or otherwise using this App after any changes to this Privacy Policy, you indicate that you have read the updated Privacy Policy and consent to its terms.\nApp owner\nThe Canadian Cardiovascular Pharmacist Network. Contact:\nccpn@ccs.ca\nAll rights reserved\nThe images and information contained within this App are owned by CCPN and are protected under the copyright and trademark laws of Canada and where required by applicable regulations. All text, photos, graphics, audio and video material appearing on this App shall not be published, broadcast, rewritten for broadcast or publication or redistributed directly or indirectly in any medium. Except as specifically permitted, any trademarks, tradenames or service marks appearing on this App may only be used with the permission of their respective owners.\nPolitique de confidentialité du RCPC\nLe RCPC a à cœur de préserver votre confiance à l’égard de la protection de votre vie privée. Veuillez lire attentivement cette politique afin de comprendre nos pratiques quant à la collecte, à l’utilisation et à la communication de vos renseignements.\nCette Politique de confidentialité sur l’application du RCPC (la « Politique de confidentialité ») présente les données que peut recueillir le RCPC par l’intermédiaire de la présente Application du RCPC (l’« Appli »).\nIl est possible de télécharger l’application du RCPC sur Google Play pour Android ou sur l’App Store d’Apple. En téléchargeant l’Appli, en y accédant ou en l’utilisant de toute autre manière, vous indiquez avoir lu la Politique de confidentialité de Google Play ou celle de l’App Store et consentir à ses modalités. Aucun renseignement personnel ne sera recueilli par l’Appli ou par le RCPC. Si vous ne consentez pas à la Politique de confidentialité, ne téléchargez pas l’Appli, n’y accédez pas et ne l’utilisez d’aucune autre manière.\nCette Politique de confidentialité peut être mise à jour ponctuellement; nous publierons un avis en tête de page en cas de mise à jour ou de modification importante. De plus, nous vous aviserons si nous envisageons utiliser vos renseignements de toute manière non déclarée au moment de leur collecte; vous pourrez alors décider si nous pourrons le faire ou non. En téléchargeant l’Appli, en y accédant ou en l’utilisant de toute autre manière après que cette Politique de confidentialité a été modifiée, vous indiquez avoir lu la dernière version de celle-ci et consentir à ses modalités.\nPropriétaire de l’Appli\nLe Réseau des pharmaciens impliqués en soins cardiovasculaires (\nccpn@ccs.ca\n).\nTous droits réservés\nLes images et renseignements contenus dans cette Appli sont la propriété du RCPC protégés par les lois du Canada sur le droit d’auteur et les marques de commerce et, s’il y a lieu, par la réglementation applicable. Tous les textes, photos, éléments graphiques et fichiers audio et vidéo qui apparaissent dans l’Appli ne peuvent être publiés, diffusés, réécrits aux fins de diffusion ou de publication ou redistribués, directement ou indirectement, sur tout support. Sauf dans la mesure explicitement autorisée, les marques de commerce, noms commerciaux et marques de service qui apparaissent dans cette Appli ne peuvent être utilisés qu’avec la permission de leurs propriétaires respectifs.\nContact Us\nCanadian Cardiovascular Pharmacists Network\n150 Elgin Street, Suite 1000\nOttawa, ON K2P 1L4\n343-655-1932\nccpn@ccs.ca\nFollow us on\nFacebook\nSubscribe to our\nYouTube channel\nFollow us on X:\n@CCPNRx",
         "main#main-content",
         "ok",
         "ccs",
         "2025-07-29T20:26:05"
        ],
        [
         "42",
         "https://ccs.ca/ccs-research-awards/ccs-pfizer-chf-alliance-research-fellowship-award-in-first-nations-inuit-and-metisfnim-communities-experiencing-heart-function-hf-inequities-handbook/",
         "Home\n2024 CCS-PFIZER-CHF ALLIANCE RESEARCH FELLOWSHIP AWARD IN FIRST NATIONS, INUIT AND MÉTIS(FNIM) COMMUNITIES EXPERIENCING HEART FUNCTION (HF) INEQUITIES – Handbook\n2024 CCS-PFIZER-CHF ALLIANCE RESEARCH FELLOWSHIP AWARD IN FIRST NATIONS, INUIT AND MÉTIS(FNIM) COMMUNITIES EXPERIENCING HEART FUNCTION (HF) INEQUITIES – Handbook\nThe CCS Research Fellowships and Awards program was established to foster growth of peer-reviewed Canadian cardiovascular research and researchers. With support from like-minded organizations committed to empowering clinician scientists nationally, the CCS Research Fellowships and Awards program supports topics of research that span the various areas of cardiovascular medicine. The CCS, and all program partners, encourage all eligible CCS members to apply including underrepresented groups women and gender minorities, Indigenous Peoples, persons with disabilities, racialized individuals, and members of the 2SLGBTQIA+ communities.\nPlease refer to\nAppendix A for CCS Terms and Conditions for all CCS Research and Fellowship Awards\nCONTACT\nFor information regarding research programs, governing policies, and application submissions, please contact: Research and Fellowship Awards Email:\nresearchawards@ccs.ca\nDEADLINE\nApplication submissions must be made online through the CCS On-line submission platform. CCS offers a secure internet portal which allows the applicant to electronically submit grant applications. All application submissions are due online on Cadmium May 7, 2024. Additional time allowances will not usually be granted for any reason.\nNotices of Decision will be shared in mid-July 2024. Funding is projected to be disbursed starting in fall 2024.\nFUNDING OPPORTUNITY\nThe Canadian Cardiovascular Society, Pfizer, and the Canadian Heart Function Alliance (CHF Alliance) are proud to support the Research Fellowship Award in First Nations, Inuit and Métis (FNIM) Communities Experiencing Heart Function (HF) Inequities. The purpose of this award is to support growth and  excellence in research focused on better understanding and addressing the heart function inequities experienced by First Nations, Inuit and Métis in both health generally and HF care more specifically.\nOBJECTIVE\nThe objective of the Research Fellowship Award in First Nations, Inuit and Métis (FNIM) Communities Experiencing Heart Function (HF) Inequities is to facilitate clinical outcomes research or clinical research in an area related to prediction, prevention, diagnosis and management of HF in the Canadian First Nations, Inuit and Métis (FNIM) communities (spanning the lifecycle of patients from young to elderly, from rural to urban, and across geographic and socio-economic barriers.\nPreference will be given to researchers who\n:\ndemonstrate multi-institutional collaboration, particularly with sites involved with the CHF Alliance\nagree to have their projects become part of the CHF Alliance structure and to present their protocols, project updates, results, and knowledge translation plans at internal CHF Alliance meetings. Visit the CHF Alliance website for more information about the structure.\nsubmit research proposals with demonstrable ability to meet objectives within the 12-month term of the fellowship.\nare from institutions with a demonstrable commitment to reconciliation that might support the Fellow in conducting their proposed research (for example, institutions that have offices of Indigenous engagement, agreements in place with Indigenous communities, or Elders and Knowledge Holders on staff that could support the Fellow).\nhave a proven track record in FNMI health research, with demonstrated engagement and commitment to the FNIM community. For example:\nTCPS 2 certificate\ntraining in FNIM people and their health (certificate, transcript or a few paragraphs on key learnings)\nevidence of engagement with FNIM people (ie. letter of support, engagement plan, etc)\nELIGIBILITY CRITERIA\nThe principal investigator must be a research fellow defined by CCS as an individual who is enhancing their research skills through actual involvement in research and who works under the formal supervision of an independent researcher.  The supervisor must be identified and provide written support for the research.\nFor CCS awards a research fellow may be;\na postdoctoral fellow\n(post-PhD) at an academic or research institution;\na post-health professional degree fellow\n(e.g., medicine, nursing, pharmacy) at an academic or research institution. This includes specialists with certification in cardiovascular health or specialists who do not have a specialty qualification in a cardiovascular discipline but have a major interest and time commitment to cardiovascular disease.\nApplicants must be or become members of the Canadian Cardiovascular Society before accepting the award. For more information about CCS Membership, visit the CCS website:\nhttp://www.ccs.ca/en/membership\nApplicants must be a Canadian Citizen or Permanent Resident of Canada.\nCo-applicants of different career stages can be included. Inclusion of at least one mentor (at a mid-career or senior investigator stage) is strongly encouraged.\nApplicants can be principal investigators on only one application per cycle.\nAward funds are solely intended for research performed in Canada.\nThe award and funds are intended for original research that is either clinical or translational with expected impact on patient care. Proposal should not request supplement funding for projects that already have extramural funding.\nIf the submission refers to a multicenter clinical trial, the applicant must specify their specific role in the research study.\nIf the application is for a sub-study of an ongoing project or trial, the applicant must specify their role and explain how the sub-study is distinct from the main study.\nIf funded, proposed research must be completed within 48 months from the start of funding.\nANNUAL/FINAL REPORTS\nReports must be submitted by October of the subsequent year. If required an additional final report must be submitted within 6 months of the end date of the research, and a retrospective report is required 5 years after funding is completed.\nTHE AWARD\nOne award of $65, 000 will be awarded based on an independent peer review process. Award funds will be administered by the Institution of the awardee’s affiliated university or equivalent.\nTERM\nFunding is provided for one (1) year. Depending on the circumstances, a no-cost extension could be available with an additional interim progress report and an explanation for the need for the extension.\nSUBMITTING YOUR APPLICATION\nAll applications must be submitted electronically using the\nCCS online submission system\n.\nSubmissions will be accepted until May 7, 2024\nYou will receive email confirmation of your submission within 24 hours.\nAll applications will be pre-screened for eligibility. Applications that are late, incomplete and/or do not meet the basic eligibility criteria will not be considered for review. Peer review of all eligible applications will be conducted by a scientific review committee comprised mainly of CCS members. All eligible proposals will be reviewed by at least two members of the peer review committee.\nEvaluation of applications will be based on three (3) criteria:\nAcademic and research background of the applicant\nQuality of the research program\nResearch environment and mentor.\nThe applicant will log into the\nsubmission site\n, to complete the assigned tasks.\nTASKS\nApplicant Information & Headshot\nInstitution Statement\nApplications for this award must be supported by the university or institution at which the applicant will conduct the proposed research program. Provide a statement completed by the Dean and Department Head (or institutional equivalents) demonstrating commitment of the university or institution to provide the applicant appropriate academic rank, time allocated to the proposed research program, and to provide adequate space and facilities for the investigator’s research, as well as a commitment to developing the applicant’s research, technical and professional skills and networks over the training period by providing career planning, skills development and networking opportunities to prepare the trainee for an impactful career.\nStatement of Eligibility\nMentor / Supervisor and Institution Information\nProject Title, Lay Summary\nLay Summary: Provide a lay summary in 280 characters or less, clearly explain the proposed research program to a general audience (at a reading level no greater than grade 8).\nResearch Program Outline and Operating Grants :\nResearch Program Outline\n: Provide an outline of the proposed research program (max  1500 words), including an executive summary of the proposed program of research. Ensure the outline describes the contribution this program of research has the potential to contribute to the field. The applicant should clearly demonstrate the potential to become an independent investigator.\nOperating Grants:\nList any operating grant(s) that have been secured to support the proposed research program\nUpload Appendices (optional)\nCV of the Principal Investigator, co-investigator (if applicable) and at least one (1) Primary Supervisor. CVs must be no longer than two (2) pages each and should include only peer-reviewed publications and abstracts from the last five (5) years. Do not include presentations, conferences, lectures or non-peer-reviewed publications. CVs should be uploaded in one PDF file.\nBudget – Complete the budget template.\nBudget Justification – eexplanation should not exceed 1500 words.\nFinancial Information: Award funds will be administered by the Research Center or Cardiology Division of the awardee’s affiliated university or equivalent.  Contact information is required.\nAll submissions will be kept confidential according to the requirements of the Canadian Cardiovascular Society and the Personal Information Protection and Electronics Document Act (PIPEDA) (CCS privacy policy is at www.ccs.ca.)\nIf you have questions about submission process or require assistance with the submission system, contact\nresearchawards@ccs.ca\n.\nCCS PEER REVIEW PROCESS\nConflict of Interest and Confidentiality\nAll reviewers will be required to agree to CCS’s Conflict of Interest and Confidentiality policies before beginning their reviews. CCS considers that a conflict of interest exists when the reviewers personal, professional or financial interests affect, or may be perceived to affect, their objectivity. Potential reviewers will recuse themselves from the review where a COI exists or may appear to exist. These policies have been developed by CCS to ensure the effective management of real or perceived conflicts of interest in the review process to ultimately encourage a culture of trust and transparency in the research funding process.\nReview of Applications\nScientific Review Committee\nThe Award review committees are volunteer committees. Each peer-review committee member has demonstrated scientific expertise in cardiovascular disease. Appointment of committee members takes into consideration required expertise, regional distribution, gender, and language skills to ensure a fair and balanced review process. Members are appointed for a three-year term. All recipients of CCS Awards are committed to serving at least a one-year term as a peer reviewer.\nAny reviewer who is a Co-Applicant or Collaborator on an CCS Award application may not be present when their application is being assessed and must recuse themselves from the discussion. Applications are reviewed by two committee members and, whenever deemed appropriate by the Co-Chairs, and an additional reader, when expertise is required. Each reviewer conducts a written review and rates the application based on the Peer-Review Criteria in Eligibility and Assessment Criteria. Scientific reviewers are assigned to applications based on their area of expertise, and with consideration of any real or perceived conflicts of interest. Prior to the committee meeting, reviewers will submit their scores to CCS via the on-line platform. After a panel discussion, a consensus rating will be negotiated, around which each member scores. The average of all scores allows for a ranking of applicants and the top scoring applications are funded.\nRATING\nReviewers will provide a rating of the application. This is a combined rating for all three adjudication criteria. Please ensure that you consider your assessment of all criteria in your rating.\nCriterion\nRating (1 to 49)\nSignificance and Impact of the Research (need for research, potential impact of the findings)\nApproaches and Methods (proposes a clear question with appropriately designed methods and analysis, with few limitations identified); originality, feasibility)\nExpertise, Experience and Resources (quality of applicant, research environment, research team)\nRank and Rating Scale Descriptor Range\nOutstanding 45.0-49.9\nExcellent 40.0-44.9\nVery good 35.0-39.9\nGood 30.0-34.9\nNeeds revision 25.0-29.9\nNeeds major revision 20.0-24.9\nSeriously flawed 10.0-19.9\nUnacceptable/ Rejected 00.0-9.9\nWritten Review\nProvide a critical assessment of the application by stating the strengths and weaknesses of the project, as well as constructive feedback based on the evaluation criteria described in the peer review manual.\nIntegration of Budget Assessment\nReviewers are asked to determine if the budget is appropriate as described in the application and if it is realistic and well-justified.\nCCS Award Assessment Criteria\nAssessment Criteria: All applications are reviewed by two peer-review committee members from the CCS research community and, whenever deemed appropriate by the Chair where additional expertise is required, a third reviewer. Scientific reviewers score the application based on the following criteria:\n1.\nSignificance and Impact of the Research:\nIs the study well justified? Are the preliminary data compelling? Is there a need for research? Is the potential impact of the findings important)\n2.\nApproaches and Methods:\napplicant proposes a clear question with appropriately designed methods and analysis, with few limitations identified; Is the study well outlined and reasonable for the timeline?; what is the originality? what is the feasibility?\n3.\nExpertise, Experience and Resources:\nWhat is the quality of applicant? appropriate team members included? Is suitable expertise available, particularly to support an early career researcher or a researcher branching to a new topic? Is the research environment supportive?\nScientific reviewers will also evaluate the proposed budget for appropriateness and feasibility. The expectation of the proposed budget is that it is fully justified and takes into consideration the needs of the research project and any anticipated changes in requirements over the term of the grant.\nPrior to the review committee meeting, reviewers will submit their scores to CCS via the on-line platform. Only applications competitive for funding will be discussed at the review committee meeting. After a detailed discussion, a consensus rating will be negotiated, around which each member scores. The average of all scores allows for a ranking of applicants, and the top scoring applications are funded.\nKnowledge Translation: CCS expects awardees to disseminate knowledge created from CCS funding to various users (e.g., the public, health-care practitioners, the media, scientists, and policy makers) and facilitate their translation into improved knowledge to support health, more effective products or services, and/or a strengthened healthcare system. In all knowledge translation activities, awardees must prominently acknowledge the support provided by CCS and refer to themselves as recipients of the 2024 CCS-PFIZER-CHF ALLIANCE RESEARCH FELLOWSHIP AWARD IN FIRST NATIONS, INUIT AND MÉTIS\n(FNIM) COMMUNITIES EXPERIENCING HEART FUNCTION (HF) INEQUITIE.\nCCS Research and Fellowship Awards – Appendix A : Terms and Conditions",
         "main#main-content",
         "ok",
         "ccs",
         "2025-07-29T20:26:05"
        ],
        [
         "43",
         "https://ccs.ca/ccs-research-awards/ccs-bms-hypertrophic-cardiomyopathy-hcm-research-award/",
         "Home\nAbout\nAwards\nCCS Research Fellowships & Awards\nCCS-BMS Hypertrophic Cardiomyopathy (HCM) Research Award\nCCS-BMS Hypertrophic Cardiomyopathy (HCM) Research Award\nThe Canadian Cardiovascular Society and Bristol Myers Squibb (BMS) are proud to support the CCS-BMS Hypertrophic Cardiomyopathy (HCM) Research Award. The purpose of this award is to foster growth of peer-reviewed Canadian research in the area of HCM, with a focus on HCM diagnosis, progression monitoring, epidemiology and / or prevalence.\nTwo (2) awards of up to $65,000 each will be awarded based on an independent peer review process. A total of $130,000 in funding is available across the two awards. Award funds will be administered by the Institution of the awardee’s affiliated university or equivalent.\nThis research award has been made possible through a grant from Bristol Myers Squibb Canada Co. (“BMS”).  BMS will not control, influence or participate in the award program whatsoever.\nStart your Submission\nAward Handbook\nPast Award Recipients\nEligibility\nBe a CCS Member*. For more information about CCS Membership, visit the CCS website:\nhttps://ccs.ca/en/membership\n.\n*You must be a CCS member to accept funding, but you can apply without being a member!\nApplicants must be a Canadian Citizen or Permanent Resident of Canada.\nThe principal investigator must be an early career independent researcher (within 5 years of their first faculty appointment at a Canadian academic institution). Co-applicants of different career stages can be included. Inclusion of at least one mid-career or senior investigator serving as mentor is strongly encouraged.\nApplicants can be principal investigators on only one application.\nAward funds are solely intended for research performed in Canada.\nThe award and funds are intended for original research that is either clinical or translational with expected impact of HCM patient care. Proposal should not request supplement funding for an ongoing project.\nIf the submission refers to a multicenter clinical trial, the applicant must specify their specific role in the research study.\nIf the application is for a sub-study of an ongoing project or trial, the applicant must specify their role and explain how the sub-study is distinct from the main study.\nFunded research must be completed within 48 months from the start of funding.\nResearch status report will be requested and should be submitted on October 1st of the ensuing year(s) that the project is running.\nEligible Areas of Research\nEligible research includes all areas of HCM, with preferential focus on HCM diagnosis, progression monitoring, epidemiology and / or prevalence. Should the study be clinical in nature, please outline how you will emphasize equity, diversity and inclusion in patient populations.\nThe Peer Review Process and Evaluation Committee\nAll applications will be pre-screened for eligibility. Applications that are late, incorrectly formatted, incomplete and/or do not meet the basic eligibility criteria will not be considered for review.\nPeer review of all eligible applications will be conducted by a scientific review committee comprised of CCS members. Reviewers are selected for their subject matter expertise. All eligible proposals will be reviewed by at least two members of the peer review committee.\nIf you have any questions or require support preparing or submitting your application, please email\nresearchawards@ccs.ca\n.\nSupported by:\nThe Canadian Cardiovascular Society and BMS are proud to support the CCS-BMS HCM Research Award. With this award, we hope to further research on hypertrophic cardiomyopathy to improve the lives of Canadians who are affected by this condition, and their families.\nAbout\nAbout Us\nCCS Code of Conduct\nMission and Vision\nAnnual Reports\nStrategic Plan\nCCS's 75th Anniversary\nJoin Our Team\nBoard of Directors\nPresident’s Page\nPast Presidents\nCommittees\nCCS Initiatives\nMYCOVACC\nCCS Classification of Acute Myocardial Infarction (CCS-AMI)\nAwards\nCCS Recognition Awards\nCCS Research Fellowships & Awards\nCCS Affiliate Awards",
         "main#main-content",
         "ok",
         "ccs",
         "2025-07-29T20:26:05"
        ],
        [
         "44",
         "https://ccs.ca/ccs-research-awards/ccs-novonordisk-cardiometabolic-research-award/",
         "Home\nAbout\nAwards\nCCS Research Fellowships & Awards\nCCS-Novo Nordisk Cardiometabolic Research Award\nCCS-Novo Nordisk Cardiometabolic Research Award\nThe Canadian Cardiovascular Society (CCS) and Novo Nordisk have collaboratively created an award, entitled “CCS-Novo Nordisk Cardiometabolic Research Award”.\nThis Award is intended for early career researchers (including PhDs and MDs) who are within five (5) years of their first faculty appointment at a Canadian academic institution, for a research project on any topic related to cardiometabolic disease.\nA single award of $35K will be awarded based on an independent peer review process. Funded research must be completed within 12 months from the start of funding.\nStart your Submission\nAward Handbook\nPast Award Recipients\nEligibility\nApplicants must be or become members of the Canadian Cardiovascular Society before accepting the award. For more information about CCS Membership, visit the\nCCS Membership Page\n.\n*You must be a CCS member to accept funding, but you can apply without being a member!\nThe principal investigator must be an early career researcher (ECR). An early career researcher (ECR) is a researcher within five years of the date of their first independent research-related appointment at an academic institution. Given that career progress for an ECR is particularly vulnerable to normal life circumstances, CCS will adjust the eligibility window, as per CIHR applications, as follows:\nEligible leaves (e.g., maternity, parental, medical, family medical, bereavement) will extend ECR status (i.e., will not be counted towards the maximum) and are credited as twice the amount of time taken.\nNo adjustments are provided for professional leaves (e.g., training, sabbatical, administrative). No adjustments are provided for time spent on non-research-related duties or for the pursuit of non-research-related career activities.\nApplicants must be a Canadian Citizen or Permanent Resident of Canada at the time of receiving funding.\nCo-applicants of different career stages can be included.\nApplicants can be principal investigators on only one application per cycle.\nAward funds are solely intended for research performed in Canada.\nThe award and funds are intended for original research and should not supplement funding for that already have extramural funding.\nIf the submission refers to a multicenter clinical trial, the applicant must specify their specific role in the research study.\nIf the application is for a sub-study of an ongoing project or trial, the applicant must specify their role and explain how the sub-study is distinct from the main study.\nFunded research must be completed within 48 months from the start of funding.\nThe Award\nOne (1) award is available in 2025.\nAward:\n$35,000\nFunds will be administered by the Cardiology Division of the awardee’s affiliated university or equivalent.\nThe Peer Review Process and Evaluation Committee\nAll applications will be pre-screened for eligibility. Applications that are late, incomplete and/or do not meet the basic eligibility criteria will not be considered for review. Peer review of all eligible applications will be conducted by a scientific review committee comprised of CCS members. All eligible proposals will be reviewed by at least two members of the peer review committee.\nIf you have any questions or require support preparing and submitting your application, please email\nresearchawards@ccs.ca\n.\nIf you have any questions or require support preparing or submitting your application, please email\nresearchawards@ccs.ca\n.\nSupported by:\nThe Canadian Cardiovascular Society and Novo Nordisk are proud to support the CCS-Novo Nordisk Cardiometabolic Research Award. With this award, we hope to further research on the link between cardiovascular disease in diabetes to improve thelives of Canadians who are affected by these conditions, and their families\nAbout\nAbout Us\nCCS Code of Conduct\nMission and Vision\nAnnual Reports\nStrategic Plan\nCCS's 75th Anniversary\nJoin Our Team\nBoard of Directors\nPresident’s Page\nPast Presidents\nCommittees\nCCS Initiatives\nMYCOVACC\nCCS Classification of Acute Myocardial Infarction (CCS-AMI)\nAwards\nCCS Recognition Awards\nCCS Research Fellowships & Awards\nCCS Affiliate Awards",
         "main#main-content",
         "ok",
         "ccs",
         "2025-07-29T20:26:05"
        ],
        [
         "45",
         "https://ccs.ca/ccs-research-awards/ccs-pfizer-attr-cm-research-trainee-award_handbook/",
         "Home\nCCS-Pfizer ATTR-CM Research Trainee Award – Handbook\nCCS-Pfizer ATTR-CM Research Trainee Award – Handbook\nThe CCS Research Fellowships and Awards program was established to foster growth of peer-reviewed Canadian cardiovascular research and researchers. With support from like-minded organizations committed to empowering clinician scientists nationally, the CCS Research Fellowships and Awards program supports topics of research that span the various areas of cardiovascular medicine. The CCS, and all program partners, encourage all eligible CCS members to apply including underrepresented groups women and gender minorities, Indigenous Peoples, persons with disabilities, racialized individuals, and members of the 2SLGBTQIA+ communities.\nPlease refer to\nAppendix A for CCS Terms and Conditions for all CCS Research and Fellowship Awards\nCONTACT\nFor information regarding research programs, governing policies, and application submissions, please contact: Research and Fellowship Awards Email:\nresearchawards@ccs.ca\nDEADLINE\nApplication submissions must be made online through the\nCCS On-line submission platform\n. CCS offers a secure internet portal which allows the applicant to electronically submit grant applications. All application submissions are due online on\nMay 6, 2025\n. Additional time allowances will not usually be granted for any reason.\nNotices of Decision will be shared in mid-July 2025. Funding is projected to be disbursed starting in fall 2025.\nFUNDING OPPORTUNITY\nThe Canadian Cardiovascular Society and Pfizer Canada are proud to support CCS-Pfizer ATTR-CM Research Trainee Award. The purpose of this award is to foster growth of peer-reviewed Canadian research in the therapeutic area.\nELIGIBILIT\nY CRITERIA\nBe a CCS Member*. For more information about CCS Membership, visit the CCS website:\nhttps://ccs.ca/en/membership\n.\n*You must be a CCS member to accept funding, but you can apply without being a member!\nApplicants must be a Canadian Citizen or Permanent Resident of Canada at the time funding is received.\nIndividuals must be currently engaged in a formal Canadian cardiovascular-related training program, for example Adult Cardiology, Pediatric Cardiology, Cardiac Surgery, Pharmacy or Nursing\nTrainees who are furthering their training in a cardiovascular subspecialty area (e.g. echocardiography, electrophysiology, interventional cardiology)\nResearch Trainees at the PhD or Postdoctoral level in cardiovascular sciences\nApplicants must demonstrate support by the university or institution at which the applicant will conduct the proposed research program.  There is a requirement for a statement completed by the Dean and Department Head (or institutional equivalents) demonstrating commitment of the university or institution to provide the applicant appropriate time allocated to the proposed research and to provide adequate space and facilities for the trainee’s research, as well as a commitment to developing the applicant’s research, technical and professional skills and networks over the training period by providing career planning, skills development and networking opportunities to prepare the trainee for an impactful career.\nApplicants can submit only one application.\nAward funds are solely intended for research performed in Canada.\nThis award is intended for a Trainee to perform original research that is either clinical or translational with expected impact on patient care. Proposal should not request supplemental funding for a project that has extramural funding.\nIf the submission refers to a multicenter clinical trial, the applicant must indicate their specific role in the research study.\nIf the application is for a sub-study of an ongoing project or trial, the applicant must specify their role and explain how the sub-study is distinct from the main study.\nIf funded, proposed research must be completed within 12 months (with consideration for projects up to 24 months) from the start of funding.\nResearch status reports will be required on October 1st of every year that the project is running.\nANNUAL/FINAL REPORTS\nReports must be submitted by October of the subsequent year. If required an additional final report must be submitted within 6 months of the end date of the research, and a retrospective report is required 5 years after funding is completed.\nELIGIBLE/INELIGIBLE AREAS OF RESEARCH\nEligible areas of study may include:\nEarly identification, evaluation, diagnosis, prognosis and treatment;\nNatural history\nEpidemiology\nPrevalence of TTR amyloidosis among at-risk populations (e.g. carpal tunnel syndrome, aortic stenosis, hypertrophic cardiomyopathy, lumbar spinal stenosis, hip & knee arthroplasty, atrial fibrillation)\nChanging epidemiology of cardiac amyloid subtypes (hereditary vs. wild- type)\nScintigraphy\nUse of scintigraphy in diagnosis of early disease and/or monitoring disease progression\nPhenotype and management of patients with Perugini Grade 1 uptake\nPost organ transplant\nUse of tafamidis\nNatural course of disease\nMixed phenotypic manifestations (e.g. polyneuropathy and cardiomyopathy)\nDevelopment of new quality of life measures or patient report outcomes measures in ATTR amyloidosis\nNew methodology to accelerate appropriate ATTR-CM patient identification\nIncluding machine learning / artificial intelligence and new biomarkers\nINELIGIBLE AREAS OF RESEARCH:\nhead-to-head studies\nany indications outside of TTR amyloidosis\npediatric investigations\nend stage disease\ndose response studies\ntafamidis animal studies\nTHE AWARD\nOne award of up to $60, 000 will be awarded based on an independent peer review process.  The funds may be used towards salary support/benefits, travel for attending a related conference/meeting, or operating expenses for research.  Award funds will be administered by the Institution of the awardee’s affiliated university or equivalent.\nTERM\nFunding is provided for one (1) year. Depending on the circumstances, a no-cost extension could be available with an additional interim progress report and an explanation for the need for the extension.\nSUBMITTING YOUR APPLICATION\nAll applications must be submitted electronically using the\nCCS online submission system\n.\nSubmissions will be accepted until\nMay 6, 2025\n.\nYou will receive email confirmation of your submission within 24 hours.\nAll applications will be pre-screened for eligibility. Applications that are late, incomplete and/or do not meet the basic eligibility criteria will not be considered for review. Peer review of all eligible applications will be conducted by a scientific review committee comprised mainly of CCS members. All eligible proposals will be reviewed by at least two members of the peer review committee.\nEvaluation of applications will be based on three (3) criteria:\nAcademic and research background of the applicant\nQuality of the research program\nResearch environment and mentor.\nThe applicant will log into the\nsubmission site\n, to complete the assigned tasks.\nTASKS\nApplicant Information & Headshot\nStatement of Eligibility\nInstitution Statement\nApplications for this award must be supported by the university or institution at which the applicant will conduct the proposed research program. Provide a statement completed by the Dean and Department Head (or institutional equivalents) demonstrating commitment of the university or institution to provide the applicant appropriate academic rank, time allocated to the proposed research program, and to provide adequate space and facilities for the investigator’s research, as well as a commitment to developing the applicant’s research, technical and professional skills and networks over the training period by providing career planning, skills development and networking opportunities to prepare the trainee for an impactful career.\nMentor / Supervisor and Institution Information\nLay Summary\nLay Summary: Provide a lay summary in 280 characters or less, clearly explain the proposed research program to a general audience (at a reading level no greater than grade 8).\nResearch Program Outline and Operating Grants :\nResearch Program Outline\n: Provide an outline of the proposed research program (max  1500 words), including an executive summary of the proposed program of research. Ensure the outline describes the contribution this program of research has the potential to contribute to the field. The applicant should clearly demonstrate the potential to become an independent investigator.\nOperating Grants:\nList any operating grant(s) that have been secured to support the proposed research program\nCV of the Principal Investigator, co-investigator (if applicable) and at least one (1) Primary Supervisor. CVs must be no longer than two (2) pages each and should include only peer-reviewed publications and abstracts from the last five (5) years. Do not include presentations, conferences, lectures or non-peer-reviewed publications. CVs should be uploaded in one PDF file.\nUpload Appendices (optional)\nBudget – Complete the budget template.\nBudget Justification – explanation should not exceed 1500 words.\nFinancial Information: Award funds will be administered by the Research Center or Cardiology Division of the awardee’s affiliated university or equivalent.  Contact information is required.\nAll submissions will be kept confidential according to the requirements of the Canadian Cardiovascular Society and the Personal Information Protection and Electronics Document Act (PIPEDA) (CCS privacy policy is at www.ccs.ca.)\nIf you have questions about submission process or require assistance with the submission system, contact\nresearchawards@ccs.ca\n.\nCCS PEER REVIEW PROCESS\nConflict of Interest and Confidentiality\nAll reviewers will be required to agree to CCS’s Conflict of Interest and Confidentiality policies before beginning their reviews. CCS considers that a conflict of interest exists when the reviewers personal, professional or financial interests affect, or may be perceived to affect, their objectivity. Potential reviewers will recuse themselves from the review where a COI exists or may appear to exist. These policies have been developed by CCS to ensure the effective management of real or perceived conflicts of interest in the review process to ultimately encourage a culture of trust and transparency in the research funding process.\nReview of Applications\nScientific Review Committee\nThe Award review committees are volunteer committees. Each peer-review committee member has demonstrated scientific expertise in cardiovascular disease. Appointment of committee members takes into consideration required expertise, regional distribution, gender, and language skills to ensure a fair and balanced review process. Members are appointed for a three-year term. All recipients of CCS Awards are committed to serving at least a one-year term as a peer reviewer.\nAny reviewer who is a Co-Applicant or Collaborator on an CCS Award application may not be present when their application is being assessed and must recuse themselves from the discussion. Applications are reviewed by two committee members and, whenever deemed appropriate by the Co-Chairs, and an additional reader, when expertise is required. Each reviewer conducts a written review and rates the application based on the Peer-Review Criteria in Eligibility and Assessment Criteria. Scientific reviewers are assigned to applications based on their area of expertise, and with consideration of any real or perceived conflicts of interest. Prior to the committee meeting, reviewers will submit their scores to CCS via the on-line platform. After a panel discussion, a consensus rating will be negotiated, around which each member scores. The average of all scores allows for a ranking of applicants and the top scoring applications are funded.\nRATING\nReviewers will provide a rating of the application. This is a combined rating for all three adjudication criteria. Please ensure that you consider your assessment of all criteria in your rating.\nCriterion\nRating (1 to 49)\nSignificance and Impact of the Research (need for research, potential impact of the findings)\nApproaches and Methods (proposes a clear question with appropriately designed methods and analysis, with few limitations identified); originality, feasibility)\nExpertise, Experience and Resources (quality of applicant, research environment, research team)\nRank and Rating Scale Descriptor Range\nOutstanding 45.0-49.9\nExcellent 40.0-44.9\nVery good 35.0-39.9\nGood 30.0-34.9\nNeeds revision 25.0-29.9\nNeeds major revision 20.0-24.9\nSeriously flawed 10.0-19.9\nUnacceptable/ Rejected 00.0-9.9\nWritten Review\nProvide a critical assessment of the application by stating the strengths and weaknesses of the project, as well as constructive feedback based on the evaluation criteria described in the peer review manual.\nIntegration of Budget Assessment\nReviewers are asked to determine if the budget is appropriate as described in the application and if it is realistic and well-justified.\nCCS Award Assessment Criteria\nAssessment Criteria\n: All applications are reviewed by two peer-review committee members from the CCS research community and, whenever deemed appropriate by the Chair where additional expertise is required, a third reviewer. Scientific reviewers score the application based on the following criteria:\n1.\nSignificance and Impact of the Research:\nIs the study well justified? Are the preliminary data compelling? Is there a need for research? Is the potential impact of the findings important)\n2.\nApproaches and Methods:\napplicant proposes a clear question with appropriately designed methods and analysis, with few limitations identified; Is the study well outlined and reasonable for the timeline?; what is the originality? what is the feasibility?\n3.\nExpertise, Experience and Resources:\nWhat is the quality of applicant? appropriate team members included? Is suitable expertise available, particularly to support an early career researcher or a researcher branching to a new topic? Is the research environment supportive?\nScientific reviewers will also evaluate the proposed budget for appropriateness and feasibility. The expectation of the proposed budget is that it is fully justified and takes into consideration the needs of the research project and any anticipated changes in requirements over the term of the grant.\nPrior to the review committee meeting, reviewers will submit their scores to CCS via the on-line platform. Only applications competitive for funding will be discussed at the review committee meeting. After a detailed discussion, a consensus rating will be negotiated, around which each member scores. The average of all scores allows for a ranking of applicants, and the top scoring applications are funded.\nKnowledge Translation\n: CCS expects awardees to disseminate knowledge created from CCS funding to various users (e.g., the public, health-care practitioners, the media, scientists, and policy makers) and facilitate their translation into improved knowledge to support health, more effective products or services, and/or a strengthened healthcare system. In all knowledge translation activities, awardees must prominently acknowledge the support provided by CCS and refer to themselves as recipients of the CCS-Pfizer ATTR-CM Research Trainee Award .\nCCS Research and Fellowship Awards – Appendix A : Terms and Conditions",
         "main#main-content",
         "ok",
         "ccs",
         "2025-07-29T20:26:05"
        ],
        [
         "46",
         "https://ccs.ca/ccs-initiatives/",
         "Home\nAbout\nCCS Initiatives\nCCS Initiatives\nMYCOVACC\nThe CCS National Active Surveillance Study of Myocarditis and/or Pericarditis following\nmRNA COVID-19 Vaccination (MYCOVACC) is a multi-centre, pan-Canadian study funded\nby the Public Health Agency of Canada.\nCCS Classification of Acute Myocardial Infarction (CCS-AMI)\nOn October 28, 2023, the\nCanadian Cardiovascular Society Classification of Acute Myocardial Infarction (CCS-AMI)\n– a new, never-before released classification of four stages of heart attack – was published in the Canadian Journal of Cardiology. A presentation at the Vascular 2023 conference in Montréal followed on October 29.\nAbout\nAbout Us\nCCS Code of Conduct\nMission and Vision\nAnnual Reports\nStrategic Plan\nCCS's 75th Anniversary\nJoin Our Team\nBoard of Directors\nPresident’s Page\nPast Presidents\nCommittees\nCCS Initiatives\nMYCOVACC\nCCS Classification of Acute Myocardial Infarction (CCS-AMI)\nAwards\nCCS Recognition Awards\nCCS Research Fellowships & Awards\nCCS Affiliate Awards",
         "main#main-content",
         "ok",
         "ccs",
         "2025-07-29T20:26:05"
        ],
        [
         "47",
         "https://ccs.ca/ccs-initiatives/",
         "Home\nAbout\nCCS Initiatives\nCCS Initiatives\nMYCOVACC\nThe CCS National Active Surveillance Study of Myocarditis and/or Pericarditis following\nmRNA COVID-19 Vaccination (MYCOVACC) is a multi-centre, pan-Canadian study funded\nby the Public Health Agency of Canada.\nCCS Classification of Acute Myocardial Infarction (CCS-AMI)\nOn October 28, 2023, the\nCanadian Cardiovascular Society Classification of Acute Myocardial Infarction (CCS-AMI)\n– a new, never-before released classification of four stages of heart attack – was published in the Canadian Journal of Cardiology. A presentation at the Vascular 2023 conference in Montréal followed on October 29.\nAbout\nAbout Us\nCCS Code of Conduct\nMission and Vision\nAnnual Reports\nStrategic Plan\nCCS's 75th Anniversary\nJoin Our Team\nBoard of Directors\nPresident’s Page\nPast Presidents\nCommittees\nCCS Initiatives\nMYCOVACC\nCCS Classification of Acute Myocardial Infarction (CCS-AMI)\nAwards\nCCS Recognition Awards\nCCS Research Fellowships & Awards\nCCS Affiliate Awards",
         "main#main-content",
         "ok",
         "ccs",
         "2025-07-29T20:26:05"
        ],
        [
         "48",
         "https://ccs.ca/ccs-research-and-fellowship-awards-appendix-a-terms-and-conditions/",
         "Home\nCCS Research and Fellowship Awards – Appendix A : Terms and Conditions\nCCS Research and Fellowship Awards – Appendix A : Terms and Conditions\nCCS Research and Fellowship Awards – Appendix A – Terms and Conditions\nDownload",
         "main#main-content",
         "ok",
         "ccs",
         "2025-07-29T20:26:05"
        ],
        [
         "49",
         "https://ccs.ca/ccs-code-of-conduct/",
         "Home\nAbout\nAbout Us\nCCS Code of Conduct\nCCS Code of Conduct\nAbout\nAbout Us\nCCS Code of Conduct\nMission and Vision\nAnnual Reports\nStrategic Plan\nCCS's 75th Anniversary\nJoin Our Team\nBoard of Directors\nPresident’s Page\nPast Presidents\nCommittees\nCCS Initiatives\nMYCOVACC\nCCS Classification of Acute Myocardial Infarction (CCS-AMI)\nAwards\nCCS Recognition Awards\nCCS Research Fellowships & Awards\nCCS Affiliate Awards",
         "main#main-content",
         "ok",
         "ccs",
         "2025-07-29T20:26:05"
        ]
       ],
       "shape": {
        "columns": 6,
        "rows": 1136
       }
      },
      "text/html": [
       "<div>\n",
       "<style scoped>\n",
       "    .dataframe tbody tr th:only-of-type {\n",
       "        vertical-align: middle;\n",
       "    }\n",
       "\n",
       "    .dataframe tbody tr th {\n",
       "        vertical-align: top;\n",
       "    }\n",
       "\n",
       "    .dataframe thead th {\n",
       "        text-align: right;\n",
       "    }\n",
       "</style>\n",
       "<table border=\"1\" class=\"dataframe\">\n",
       "  <thead>\n",
       "    <tr style=\"text-align: right;\">\n",
       "      <th></th>\n",
       "      <th>url</th>\n",
       "      <th>content</th>\n",
       "      <th>selector_used</th>\n",
       "      <th>status</th>\n",
       "      <th>client_id</th>\n",
       "      <th>date</th>\n",
       "    </tr>\n",
       "  </thead>\n",
       "  <tbody>\n",
       "    <tr>\n",
       "      <th>0</th>\n",
       "      <td>https://ccs.ca/2021/07/02/ccs-hls-atherosclero...</td>\n",
       "      <td>Home\\nCCS/HLS Atherosclerosis Research Award\\n...</td>\n",
       "      <td>main#main-content</td>\n",
       "      <td>ok</td>\n",
       "      <td>ccs</td>\n",
       "      <td>2025-07-29T20:26:05</td>\n",
       "    </tr>\n",
       "    <tr>\n",
       "      <th>1</th>\n",
       "      <td>https://ccs.ca/2021/07/02/ccs-hls-atherosclero...</td>\n",
       "      <td>Home\\nCCS/HLS Atherosclerosis Research Award\\n...</td>\n",
       "      <td>main#main-content</td>\n",
       "      <td>ok</td>\n",
       "      <td>ccs</td>\n",
       "      <td>2025-07-29T20:26:05</td>\n",
       "    </tr>\n",
       "    <tr>\n",
       "      <th>2</th>\n",
       "      <td>https://ccs.ca/</td>\n",
       "      <td>Canadian Cardiovascular Society\\nStrong heart ...</td>\n",
       "      <td>main#main-content</td>\n",
       "      <td>ok</td>\n",
       "      <td>ccs</td>\n",
       "      <td>2025-07-29T20:26:05</td>\n",
       "    </tr>\n",
       "    <tr>\n",
       "      <th>3</th>\n",
       "      <td>https://ccs.ca/ccs-research-awards/ccs-covid-1...</td>\n",
       "      <td>Home\\nAbout\\nAwards\\nCCS Research Fellowships ...</td>\n",
       "      <td>main#main-content</td>\n",
       "      <td>ok</td>\n",
       "      <td>ccs</td>\n",
       "      <td>2025-07-29T20:26:05</td>\n",
       "    </tr>\n",
       "    <tr>\n",
       "      <th>4</th>\n",
       "      <td>https://ccs.ca/ccs-research-awards/ccs-covid-1...</td>\n",
       "      <td>Home\\nAbout\\nAwards\\nCCS Research Fellowships ...</td>\n",
       "      <td>main#main-content</td>\n",
       "      <td>ok</td>\n",
       "      <td>ccs</td>\n",
       "      <td>2025-07-29T20:26:05</td>\n",
       "    </tr>\n",
       "    <tr>\n",
       "      <th>...</th>\n",
       "      <td>...</td>\n",
       "      <td>...</td>\n",
       "      <td>...</td>\n",
       "      <td>...</td>\n",
       "      <td>...</td>\n",
       "      <td>...</td>\n",
       "    </tr>\n",
       "    <tr>\n",
       "      <th>1131</th>\n",
       "      <td>https://ccs.ca/topic/vaccination-vaccination-p...</td>\n",
       "      <td>Skip to main content\\nUtility Menu\\nJoin Us\\nN...</td>\n",
       "      <td>body</td>\n",
       "      <td>ok</td>\n",
       "      <td>ccs</td>\n",
       "      <td>2025-07-29T20:26:05</td>\n",
       "    </tr>\n",
       "    <tr>\n",
       "      <th>1132</th>\n",
       "      <td>https://ccs.ca/topic/vasculaire/</td>\n",
       "      <td>Skip to main content\\nUtility Menu\\nJoin Us\\nN...</td>\n",
       "      <td>body</td>\n",
       "      <td>ok</td>\n",
       "      <td>ccs</td>\n",
       "      <td>2025-07-29T20:26:05</td>\n",
       "    </tr>\n",
       "    <tr>\n",
       "      <th>1133</th>\n",
       "      <td>https://ccs.ca/topic/vascular/</td>\n",
       "      <td>Skip to main content\\nUtility Menu\\nJoin Us\\nN...</td>\n",
       "      <td>body</td>\n",
       "      <td>ok</td>\n",
       "      <td>ccs</td>\n",
       "      <td>2025-07-29T20:26:05</td>\n",
       "    </tr>\n",
       "    <tr>\n",
       "      <th>1134</th>\n",
       "      <td>https://ccs.ca/topic/women-in-cv-sciences/</td>\n",
       "      <td>Skip to main content\\nUtility Menu\\nJoin Us\\nN...</td>\n",
       "      <td>body</td>\n",
       "      <td>ok</td>\n",
       "      <td>ccs</td>\n",
       "      <td>2025-07-29T20:26:05</td>\n",
       "    </tr>\n",
       "    <tr>\n",
       "      <th>1135</th>\n",
       "      <td>https://ccs.ca/author/gracie/</td>\n",
       "      <td>Skip to main content\\nUtility Menu\\nJoin Us\\nN...</td>\n",
       "      <td>body</td>\n",
       "      <td>ok</td>\n",
       "      <td>ccs</td>\n",
       "      <td>2025-07-29T20:26:05</td>\n",
       "    </tr>\n",
       "  </tbody>\n",
       "</table>\n",
       "<p>1136 rows × 6 columns</p>\n",
       "</div>"
      ],
      "text/plain": [
       "                                                    url  \\\n",
       "0     https://ccs.ca/2021/07/02/ccs-hls-atherosclero...   \n",
       "1     https://ccs.ca/2021/07/02/ccs-hls-atherosclero...   \n",
       "2                                       https://ccs.ca/   \n",
       "3     https://ccs.ca/ccs-research-awards/ccs-covid-1...   \n",
       "4     https://ccs.ca/ccs-research-awards/ccs-covid-1...   \n",
       "...                                                 ...   \n",
       "1131  https://ccs.ca/topic/vaccination-vaccination-p...   \n",
       "1132                   https://ccs.ca/topic/vasculaire/   \n",
       "1133                     https://ccs.ca/topic/vascular/   \n",
       "1134         https://ccs.ca/topic/women-in-cv-sciences/   \n",
       "1135                      https://ccs.ca/author/gracie/   \n",
       "\n",
       "                                                content      selector_used  \\\n",
       "0     Home\\nCCS/HLS Atherosclerosis Research Award\\n...  main#main-content   \n",
       "1     Home\\nCCS/HLS Atherosclerosis Research Award\\n...  main#main-content   \n",
       "2     Canadian Cardiovascular Society\\nStrong heart ...  main#main-content   \n",
       "3     Home\\nAbout\\nAwards\\nCCS Research Fellowships ...  main#main-content   \n",
       "4     Home\\nAbout\\nAwards\\nCCS Research Fellowships ...  main#main-content   \n",
       "...                                                 ...                ...   \n",
       "1131  Skip to main content\\nUtility Menu\\nJoin Us\\nN...               body   \n",
       "1132  Skip to main content\\nUtility Menu\\nJoin Us\\nN...               body   \n",
       "1133  Skip to main content\\nUtility Menu\\nJoin Us\\nN...               body   \n",
       "1134  Skip to main content\\nUtility Menu\\nJoin Us\\nN...               body   \n",
       "1135  Skip to main content\\nUtility Menu\\nJoin Us\\nN...               body   \n",
       "\n",
       "     status client_id                 date  \n",
       "0        ok       ccs  2025-07-29T20:26:05  \n",
       "1        ok       ccs  2025-07-29T20:26:05  \n",
       "2        ok       ccs  2025-07-29T20:26:05  \n",
       "3        ok       ccs  2025-07-29T20:26:05  \n",
       "4        ok       ccs  2025-07-29T20:26:05  \n",
       "...     ...       ...                  ...  \n",
       "1131     ok       ccs  2025-07-29T20:26:05  \n",
       "1132     ok       ccs  2025-07-29T20:26:05  \n",
       "1133     ok       ccs  2025-07-29T20:26:05  \n",
       "1134     ok       ccs  2025-07-29T20:26:05  \n",
       "1135     ok       ccs  2025-07-29T20:26:05  \n",
       "\n",
       "[1136 rows x 6 columns]"
      ]
     },
     "execution_count": 17,
     "metadata": {},
     "output_type": "execute_result"
    }
   ],
   "source": [
    "df = pd.read_csv(\"./scraped_content_with_status.csv\")\n",
    "df"
   ]
  },
  {
   "cell_type": "code",
   "execution_count": 18,
   "id": "49a12219",
   "metadata": {},
   "outputs": [
    {
     "data": {
      "application/vnd.microsoft.datawrangler.viewer.v0+json": {
       "columns": [
        {
         "name": "selector_used",
         "rawType": "object",
         "type": "string"
        },
        {
         "name": "count",
         "rawType": "int64",
         "type": "integer"
        }
       ],
       "ref": "12bc9406-4c10-4633-b442-106b133b32d7",
       "rows": [
        [
         "main#main-content",
         "984"
        ],
        [
         "body",
         "151"
        ],
        [
         "error",
         "1"
        ]
       ],
       "shape": {
        "columns": 1,
        "rows": 3
       }
      },
      "text/plain": [
       "selector_used\n",
       "main#main-content    984\n",
       "body                 151\n",
       "error                  1\n",
       "Name: count, dtype: int64"
      ]
     },
     "execution_count": 18,
     "metadata": {},
     "output_type": "execute_result"
    }
   ],
   "source": [
    "df[\"selector_used\"].value_counts()"
   ]
  },
  {
   "cell_type": "code",
   "execution_count": 19,
   "id": "118ca0cd",
   "metadata": {},
   "outputs": [
    {
     "data": {
      "application/vnd.microsoft.datawrangler.viewer.v0+json": {
       "columns": [
        {
         "name": "status",
         "rawType": "object",
         "type": "string"
        },
        {
         "name": "count",
         "rawType": "int64",
         "type": "integer"
        }
       ],
       "ref": "50b5c1f1-2d22-44b7-89cf-dd6dce329383",
       "rows": [
        [
         "ok",
         "1135"
        ],
        [
         "error",
         "1"
        ]
       ],
       "shape": {
        "columns": 1,
        "rows": 2
       }
      },
      "text/plain": [
       "status\n",
       "ok       1135\n",
       "error       1\n",
       "Name: count, dtype: int64"
      ]
     },
     "execution_count": 19,
     "metadata": {},
     "output_type": "execute_result"
    }
   ],
   "source": [
    "df[\"status\"].value_counts()"
   ]
  },
  {
   "cell_type": "code",
   "execution_count": 20,
   "id": "33e6e06a",
   "metadata": {},
   "outputs": [
    {
     "data": {
      "application/vnd.microsoft.datawrangler.viewer.v0+json": {
       "columns": [
        {
         "name": "index",
         "rawType": "int64",
         "type": "integer"
        },
        {
         "name": "url",
         "rawType": "object",
         "type": "string"
        }
       ],
       "ref": "8800a130-2a37-4df5-833c-0f08cab9270e",
       "rows": [
        [
         "187",
         "https://ccs.ca/kerr-award-past-recipients/"
        ]
       ],
       "shape": {
        "columns": 1,
        "rows": 1
       }
      },
      "text/plain": [
       "187    https://ccs.ca/kerr-award-past-recipients/\n",
       "Name: url, dtype: object"
      ]
     },
     "execution_count": 20,
     "metadata": {},
     "output_type": "execute_result"
    }
   ],
   "source": [
    "# Filter rows where status is 'no_content'\n",
    "error_content_urls = df[df['status'] == 'error']['url']\n",
    "\n",
    "# Display them\n",
    "error_content_urls\n"
   ]
  },
  {
   "cell_type": "code",
   "execution_count": 21,
   "id": "440cb512",
   "metadata": {},
   "outputs": [
    {
     "data": {
      "application/vnd.microsoft.datawrangler.viewer.v0+json": {
       "columns": [
        {
         "name": "index",
         "rawType": "int64",
         "type": "integer"
        },
        {
         "name": "url",
         "rawType": "object",
         "type": "string"
        }
       ],
       "ref": "aa8dc6e3-e358-467a-ab7f-4a32fc388fc0",
       "rows": [],
       "shape": {
        "columns": 1,
        "rows": 0
       }
      },
      "text/plain": [
       "Series([], Name: url, dtype: object)"
      ]
     },
     "execution_count": 21,
     "metadata": {},
     "output_type": "execute_result"
    }
   ],
   "source": [
    "# Filter rows where status is 'no_content'\n",
    "no_content_urls = df[df['status'] == 'no_content']['url']\n",
    "\n",
    "# Display them\n",
    "no_content_urls"
   ]
  },
  {
   "cell_type": "code",
   "execution_count": 23,
   "id": "69acbdc2",
   "metadata": {},
   "outputs": [],
   "source": [
    "df[df[\"status\"] == \"ok\"][\"url\"].to_csv(\"ccs_scraped_working_urls.csv\", index=False)"
   ]
  }
 ],
 "metadata": {
  "kernelspec": {
   "display_name": ".venv",
   "language": "python",
   "name": "python3"
  },
  "language_info": {
   "codemirror_mode": {
    "name": "ipython",
    "version": 3
   },
   "file_extension": ".py",
   "mimetype": "text/x-python",
   "name": "python",
   "nbconvert_exporter": "python",
   "pygments_lexer": "ipython3",
   "version": "3.12.3"
  }
 },
 "nbformat": 4,
 "nbformat_minor": 5
}
